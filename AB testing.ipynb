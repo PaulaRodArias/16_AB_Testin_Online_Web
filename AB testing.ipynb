{
 "cells": [
  {
   "cell_type": "markdown",
   "metadata": {},
   "source": [
    "# Descripción del proyecto\n",
    "\n",
    "Este proyecto tiene como objetivo retomar un experimento de prueba A/B iniciado por un equipo anterior de una tienda en línea internacional. El equipo, después de lanzar la prueba, decidió abandonar el proyecto para emprender un nuevo camino en Brasil Como resultado, dejaron solo las especificaciones técnicas y los resultados parciales de la prueba.\n",
    "\n",
    "El desafío es tomar esos datos y continuar el análisis de la prueba A/B, ajustando lo necesario y evaluando los resultados obtenidos hasta el momento. Se busca determinar si los objetivos planteados fueron alcanzados y si las modificaciones implementadas tuvieron el impacto esperado. \n"
   ]
  },
  {
   "cell_type": "markdown",
   "metadata": {},
   "source": [
    "## Inicialización\n",
    "En la primera parte de este trabajo se llevarán a cabo los siguientes procesos:\n",
    "1. Cargar las librerías necesarias para el análisis.\n",
    "2. Importar el conjunto de datos.\n",
    "3. Revisar los datos para proceder a su limpieza y enriquecimiento, en caso de ser necesario.\n"
   ]
  },
  {
   "cell_type": "code",
   "execution_count": 1,
   "metadata": {},
   "outputs": [],
   "source": [
    "import datetime as dt\n",
    "\n",
    "import numpy as np\n",
    "from matplotlib import pyplot as plt\n",
    "import math\n",
    "import pandas as pd\n",
    "import seaborn as sns\n",
    "import scipy as stats\n",
    "\n",
    "from pandas import to_numeric\n",
    "from scipy.stats import norm\n",
    "import plotly.graph_objects as go"
   ]
  },
  {
   "cell_type": "code",
   "execution_count": 2,
   "metadata": {},
   "outputs": [],
   "source": [
    "#cargar datos\n",
    "\n",
    "m_events = pd.read_csv(\"ab_project_marketing_events_us.csv\")\n",
    "f_events = pd.read_csv(\"final_ab_events_upd_us.csv\")\n",
    "new_users = pd.read_csv(\"final_ab_new_users_upd_us.csv\")\n",
    "participants = pd.read_csv(\"final_ab_participants_upd_us.csv\")"
   ]
  },
  {
   "cell_type": "code",
   "execution_count": 3,
   "metadata": {},
   "outputs": [],
   "source": [
    "#crear función para exploración de los datos \n",
    "def eda(df):\n",
    "    print(df.head())\n",
    "    print()\n",
    "    print(df.info()) \n",
    "    print()\n",
    "    print(df.describe())\n",
    "    print()\n",
    "    \n",
    "    print(\"Duplicados:\")\n",
    "    print(df.duplicated().sum())\n",
    "    print()\n",
    "    print(\"Ausentes:\")\n",
    "    print(df.isna().sum())     "
   ]
  },
  {
   "cell_type": "code",
   "execution_count": 4,
   "metadata": {},
   "outputs": [
    {
     "name": "stdout",
     "output_type": "stream",
     "text": [
      "                           name                   regions    start_dt  \\\n",
      "0      Christmas&New Year Promo             EU, N.America  2020-12-25   \n",
      "1  St. Valentine's Day Giveaway  EU, CIS, APAC, N.America  2020-02-14   \n",
      "2        St. Patric's Day Promo             EU, N.America  2020-03-17   \n",
      "3                  Easter Promo  EU, CIS, APAC, N.America  2020-04-12   \n",
      "4             4th of July Promo                 N.America  2020-07-04   \n",
      "\n",
      "    finish_dt  \n",
      "0  2021-01-03  \n",
      "1  2020-02-16  \n",
      "2  2020-03-19  \n",
      "3  2020-04-19  \n",
      "4  2020-07-11  \n",
      "\n",
      "<class 'pandas.core.frame.DataFrame'>\n",
      "RangeIndex: 14 entries, 0 to 13\n",
      "Data columns (total 4 columns):\n",
      " #   Column     Non-Null Count  Dtype \n",
      "---  ------     --------------  ----- \n",
      " 0   name       14 non-null     object\n",
      " 1   regions    14 non-null     object\n",
      " 2   start_dt   14 non-null     object\n",
      " 3   finish_dt  14 non-null     object\n",
      "dtypes: object(4)\n",
      "memory usage: 580.0+ bytes\n",
      "None\n",
      "\n",
      "                            name regions    start_dt   finish_dt\n",
      "count                         14      14          14          14\n",
      "unique                        14       6          14          14\n",
      "top     Christmas&New Year Promo    APAC  2020-12-25  2021-01-03\n",
      "freq                           1       4           1           1\n",
      "\n",
      "Duplicados:\n",
      "0\n",
      "\n",
      "Ausentes:\n",
      "name         0\n",
      "regions      0\n",
      "start_dt     0\n",
      "finish_dt    0\n",
      "dtype: int64\n"
     ]
    }
   ],
   "source": [
    "#revisar los datos de cada tabla\n",
    "\n",
    "eda(m_events)"
   ]
  },
  {
   "cell_type": "code",
   "execution_count": 5,
   "metadata": {},
   "outputs": [
    {
     "name": "stdout",
     "output_type": "stream",
     "text": [
      "['Christmas&New Year Promo' \"St. Valentine's Day Giveaway\"\n",
      " \"St. Patric's Day Promo\" 'Easter Promo' '4th of July Promo'\n",
      " 'Black Friday Ads Campaign' 'Chinese New Year Promo'\n",
      " 'Labor day (May 1st) Ads Campaign' \"International Women's Day Promo\"\n",
      " 'Victory Day CIS (May 9th) Event' 'CIS New Year Gift Lottery'\n",
      " 'Dragon Boat Festival Giveaway' \"Single's Day Gift Promo\"\n",
      " 'Chinese Moon Festival']\n"
     ]
    }
   ],
   "source": [
    "print(m_events['name'].unique())"
   ]
  },
  {
   "cell_type": "code",
   "execution_count": 6,
   "metadata": {},
   "outputs": [
    {
     "name": "stdout",
     "output_type": "stream",
     "text": [
      "['EU, N.America' 'EU, CIS, APAC, N.America' 'N.America' 'APAC'\n",
      " 'EU, CIS, APAC' 'CIS']\n"
     ]
    }
   ],
   "source": [
    "print(m_events['regions'].unique())"
   ]
  },
  {
   "cell_type": "code",
   "execution_count": 7,
   "metadata": {},
   "outputs": [
    {
     "name": "stdout",
     "output_type": "stream",
     "text": [
      "            user_id             event_dt event_name  details\n",
      "0  E1BDDCE0DAFA2679  2020-12-07 20:22:03   purchase    99.99\n",
      "1  7B6452F081F49504  2020-12-07 09:22:53   purchase     9.99\n",
      "2  9CD9F34546DF254C  2020-12-07 12:59:29   purchase     4.99\n",
      "3  96F27A054B191457  2020-12-07 04:02:40   purchase     4.99\n",
      "4  1FD7660FDF94CA1F  2020-12-07 10:15:09   purchase     4.99\n",
      "\n",
      "<class 'pandas.core.frame.DataFrame'>\n",
      "RangeIndex: 423761 entries, 0 to 423760\n",
      "Data columns (total 4 columns):\n",
      " #   Column      Non-Null Count   Dtype  \n",
      "---  ------      --------------   -----  \n",
      " 0   user_id     423761 non-null  object \n",
      " 1   event_dt    423761 non-null  object \n",
      " 2   event_name  423761 non-null  object \n",
      " 3   details     60314 non-null   float64\n",
      "dtypes: float64(1), object(3)\n",
      "memory usage: 12.9+ MB\n",
      "None\n",
      "\n",
      "            details\n",
      "count  60314.000000\n",
      "mean      23.881219\n",
      "std       72.228884\n",
      "min        4.990000\n",
      "25%        4.990000\n",
      "50%        4.990000\n",
      "75%        9.990000\n",
      "max      499.990000\n",
      "\n",
      "Duplicados:\n",
      "0\n",
      "\n",
      "Ausentes:\n",
      "user_id            0\n",
      "event_dt           0\n",
      "event_name         0\n",
      "details       363447\n",
      "dtype: int64\n"
     ]
    }
   ],
   "source": [
    "eda(f_events)"
   ]
  },
  {
   "cell_type": "code",
   "execution_count": 8,
   "metadata": {},
   "outputs": [
    {
     "name": "stdout",
     "output_type": "stream",
     "text": [
      "60314\n"
     ]
    }
   ],
   "source": [
    "#revisar cantidad de eventos purchase\n",
    "print(len(f_events.query(\"event_name == 'purchase'\")))"
   ]
  },
  {
   "cell_type": "code",
   "execution_count": 9,
   "metadata": {},
   "outputs": [
    {
     "name": "stdout",
     "output_type": "stream",
     "text": [
      "['purchase' 'product_cart' 'product_page' 'login']\n"
     ]
    }
   ],
   "source": [
    "#encontrar nombre de los eventos \n",
    "print(f_events['event_name'].unique())"
   ]
  },
  {
   "cell_type": "code",
   "execution_count": 10,
   "metadata": {},
   "outputs": [
    {
     "name": "stdout",
     "output_type": "stream",
     "text": [
      "            user_id  first_date     region   device\n",
      "0  D72A72121175D8BE  2020-12-07         EU       PC\n",
      "1  F1C668619DFE6E65  2020-12-07  N.America  Android\n",
      "2  2E1BF1D4C37EA01F  2020-12-07         EU       PC\n",
      "3  50734A22C0C63768  2020-12-07         EU   iPhone\n",
      "4  E1BDDCE0DAFA2679  2020-12-07  N.America   iPhone\n",
      "\n",
      "<class 'pandas.core.frame.DataFrame'>\n",
      "RangeIndex: 58703 entries, 0 to 58702\n",
      "Data columns (total 4 columns):\n",
      " #   Column      Non-Null Count  Dtype \n",
      "---  ------      --------------  ----- \n",
      " 0   user_id     58703 non-null  object\n",
      " 1   first_date  58703 non-null  object\n",
      " 2   region      58703 non-null  object\n",
      " 3   device      58703 non-null  object\n",
      "dtypes: object(4)\n",
      "memory usage: 1.8+ MB\n",
      "None\n",
      "\n",
      "                 user_id  first_date region   device\n",
      "count              58703       58703  58703    58703\n",
      "unique             58703          17      4        4\n",
      "top     8F04273BB2860229  2020-12-21     EU  Android\n",
      "freq                   1        6077  43396    26159\n",
      "\n",
      "Duplicados:\n",
      "0\n",
      "\n",
      "Ausentes:\n",
      "user_id       0\n",
      "first_date    0\n",
      "region        0\n",
      "device        0\n",
      "dtype: int64\n"
     ]
    }
   ],
   "source": [
    "eda(new_users)"
   ]
  },
  {
   "cell_type": "code",
   "execution_count": 11,
   "metadata": {},
   "outputs": [
    {
     "name": "stdout",
     "output_type": "stream",
     "text": [
      "0\n"
     ]
    }
   ],
   "source": [
    "print(new_users['user_id'].duplicated().sum())"
   ]
  },
  {
   "cell_type": "code",
   "execution_count": 12,
   "metadata": {},
   "outputs": [
    {
     "name": "stdout",
     "output_type": "stream",
     "text": [
      "['PC' 'Android' 'iPhone' 'Mac']\n"
     ]
    }
   ],
   "source": [
    "#encontrar equipos de los usuarios \n",
    "\n",
    "print(new_users['device'].unique())"
   ]
  },
  {
   "cell_type": "code",
   "execution_count": 13,
   "metadata": {},
   "outputs": [
    {
     "name": "stdout",
     "output_type": "stream",
     "text": [
      "            user_id group                  ab_test\n",
      "0  D1ABA3E2887B6A73     A  recommender_system_test\n",
      "1  A7A3664BD6242119     A  recommender_system_test\n",
      "2  DABC14FDDFADD29E     A  recommender_system_test\n",
      "3  04988C5DF189632E     A  recommender_system_test\n",
      "4  4FF2998A348C484F     A  recommender_system_test\n",
      "\n",
      "<class 'pandas.core.frame.DataFrame'>\n",
      "RangeIndex: 14525 entries, 0 to 14524\n",
      "Data columns (total 3 columns):\n",
      " #   Column   Non-Null Count  Dtype \n",
      "---  ------   --------------  ----- \n",
      " 0   user_id  14525 non-null  object\n",
      " 1   group    14525 non-null  object\n",
      " 2   ab_test  14525 non-null  object\n",
      "dtypes: object(3)\n",
      "memory usage: 340.6+ KB\n",
      "None\n",
      "\n",
      "                 user_id  group            ab_test\n",
      "count              14525  14525              14525\n",
      "unique             13638      2                  2\n",
      "top     FABB6D49B11E673F      A  interface_eu_test\n",
      "freq                   2   8214              10850\n",
      "\n",
      "Duplicados:\n",
      "0\n",
      "\n",
      "Ausentes:\n",
      "user_id    0\n",
      "group      0\n",
      "ab_test    0\n",
      "dtype: int64\n"
     ]
    }
   ],
   "source": [
    "eda(participants)"
   ]
  },
  {
   "cell_type": "code",
   "execution_count": 14,
   "metadata": {},
   "outputs": [
    {
     "name": "stdout",
     "output_type": "stream",
     "text": [
      "887\n"
     ]
    }
   ],
   "source": [
    "#revisar usuarios duplicados\n",
    "print(participants['user_id'].duplicated().sum())"
   ]
  },
  {
   "cell_type": "code",
   "execution_count": 15,
   "metadata": {},
   "outputs": [
    {
     "name": "stdout",
     "output_type": "stream",
     "text": [
      "446\n"
     ]
    }
   ],
   "source": [
    "#revisar par usuario-grupo duplicados\n",
    "print(participants[['user_id', 'group']].duplicated().sum())"
   ]
  },
  {
   "cell_type": "code",
   "execution_count": 16,
   "metadata": {},
   "outputs": [
    {
     "name": "stdout",
     "output_type": "stream",
     "text": [
      "group\n",
      "A    340\n",
      "B    106\n",
      "Name: count, dtype: int64\n"
     ]
    }
   ],
   "source": [
    "#revisar grupos duplicados par usuario-grupo duplicado\n",
    "user_group_dup = participants[['user_id', 'group']].duplicated()\n",
    "\n",
    "print(participants[user_group_dup]['group'].value_counts())"
   ]
  },
  {
   "cell_type": "markdown",
   "metadata": {},
   "source": [
    "### Resultados Inicialización \n",
    "\n",
    "Se crea una función para automatizar la revisión de los datos y, al aplicarla a los distintos DataFrames, se obtienen los siguientes resultados:\n",
    "\n",
    "1. **Tabla `m_events`**  \n",
    "   - Columnas: 4  \n",
    "   - Filas: 14  \n",
    "   - Sin datos nulos ni duplicados.  \n",
    "   - Columnas con fechas son de tipo objeto.\n",
    "\n",
    "2. **Tabla `f_events`**  \n",
    "   - Columnas: 4  \n",
    "   - Filas: 423,761  \n",
    "   - Datos nulos: 363,447 en la columna *detail* (esperado, ya que es exclusiva para eventos de compra y detalla el monto pagado).  \n",
    "   - Sin duplicados.  \n",
    "   - Columnas con fechas son de tipo objeto.\n",
    "\n",
    "3. **DataFrame `new_user`**  \n",
    "   - Columnas: 4  \n",
    "   - Filas: 58,703  \n",
    "   - Sin valores nulos ni duplicados. \n",
    "    - Columnas con fechas son de tipo objeto.\n",
    "\n",
    "4. **Tabla `participants`**  \n",
    "   - Columnas: 3  \n",
    "   - Filas: 14,525  \n",
    "   - Sin datos nulos.  \n",
    "   - Sin filas completamente duplicadas, aunque la combinación *user_id* - *group* se repite, ya que representa los eventos en los  que participó cada usuario, que pueden repetirse al avanzar en la cadena de compra.  \n",
    "   - 13638 personas en total participan en la prueba."
   ]
  },
  {
   "cell_type": "markdown",
   "metadata": {},
   "source": [
    "## Preprocesamiento de datos \n",
    "En esta fase se convertirán a tipo de dato fecha aquellas columnas de las tablas a usar. Además, se creará un solo df con el cual poder trabajar en el análisis. "
   ]
  },
  {
   "cell_type": "code",
   "execution_count": 17,
   "metadata": {},
   "outputs": [],
   "source": [
    "#modificar tipo de datos columna 'event_dt' de f_events\n",
    "f_events['event_dt'] = pd.to_datetime(f_events['event_dt'])"
   ]
  },
  {
   "cell_type": "code",
   "execution_count": 18,
   "metadata": {},
   "outputs": [],
   "source": [
    "#crear columnas de fecha y hora\n",
    "f_events['date'] = f_events['event_dt'].dt.date\n",
    "f_events['time'] = f_events['event_dt'].dt.time "
   ]
  },
  {
   "cell_type": "code",
   "execution_count": 19,
   "metadata": {},
   "outputs": [],
   "source": [
    "#modificar datos columna 'first_date' de la tabla new_users \n",
    "new_users['first_date'] = pd.to_datetime(new_users['first_date'])"
   ]
  },
  {
   "cell_type": "code",
   "execution_count": 20,
   "metadata": {},
   "outputs": [
    {
     "name": "stdout",
     "output_type": "stream",
     "text": [
      "<bound method NDFrame.head of                 user_id first_date region   device group  \\\n",
      "0      D72A72121175D8BE 2020-12-07     EU       PC     A   \n",
      "1      2E1BF1D4C37EA01F 2020-12-07     EU       PC     A   \n",
      "2      50734A22C0C63768 2020-12-07     EU   iPhone     B   \n",
      "3      5BE017E9C8CC42F8 2020-12-07     EU  Android     B   \n",
      "4      96F27A054B191457 2020-12-07     EU   iPhone     B   \n",
      "...                 ...        ...    ...      ...   ...   \n",
      "14520  0416B34D35C8C8B8 2020-12-20     EU  Android     A   \n",
      "14521  27007FC1A9B62FC5 2020-12-20     EU   iPhone     B   \n",
      "14522  75F25D4DADA37ABB 2020-12-20     EU  Android     B   \n",
      "14523  2C29721DDDA76B2A 2020-12-20     EU   iPhone     B   \n",
      "14524  1C7D23927835213F 2020-12-20     EU   iPhone     B   \n",
      "\n",
      "                       ab_test  \n",
      "0      recommender_system_test  \n",
      "1            interface_eu_test  \n",
      "2            interface_eu_test  \n",
      "3            interface_eu_test  \n",
      "4            interface_eu_test  \n",
      "...                        ...  \n",
      "14520  recommender_system_test  \n",
      "14521        interface_eu_test  \n",
      "14522        interface_eu_test  \n",
      "14523        interface_eu_test  \n",
      "14524        interface_eu_test  \n",
      "\n",
      "[14525 rows x 6 columns]>\n"
     ]
    }
   ],
   "source": [
    "#unir tablas new_users y participants\n",
    "\n",
    "merged_df_u_p= new_users.merge(participants, on='user_id', how='inner')\n",
    "print(merged_df_u_p.head)"
   ]
  },
  {
   "cell_type": "code",
   "execution_count": 21,
   "metadata": {},
   "outputs": [],
   "source": [
    "#agregar tabla eventos\n",
    "full_merged_df = merged_df_u_p.merge(f_events, on='user_id', how='inner')"
   ]
  },
  {
   "cell_type": "code",
   "execution_count": 22,
   "metadata": {},
   "outputs": [],
   "source": [
    "#filtrar new_users por región \n",
    "new_users_not_eu = list(new_users.query(\"region != 'EU'\")['user_id'])"
   ]
  },
  {
   "cell_type": "code",
   "execution_count": 23,
   "metadata": {},
   "outputs": [
    {
     "data": {
      "text/html": [
       "<div>\n",
       "<style scoped>\n",
       "    .dataframe tbody tr th:only-of-type {\n",
       "        vertical-align: middle;\n",
       "    }\n",
       "\n",
       "    .dataframe tbody tr th {\n",
       "        vertical-align: top;\n",
       "    }\n",
       "\n",
       "    .dataframe thead th {\n",
       "        text-align: right;\n",
       "    }\n",
       "</style>\n",
       "<table border=\"1\" class=\"dataframe\">\n",
       "  <thead>\n",
       "    <tr style=\"text-align: right;\">\n",
       "      <th></th>\n",
       "      <th>user_id</th>\n",
       "      <th>first_date</th>\n",
       "      <th>region</th>\n",
       "      <th>device</th>\n",
       "      <th>group</th>\n",
       "      <th>ab_test</th>\n",
       "      <th>event_dt</th>\n",
       "      <th>event_name</th>\n",
       "      <th>details</th>\n",
       "      <th>date</th>\n",
       "      <th>time</th>\n",
       "    </tr>\n",
       "  </thead>\n",
       "  <tbody>\n",
       "    <tr>\n",
       "      <th>0</th>\n",
       "      <td>D72A72121175D8BE</td>\n",
       "      <td>2020-12-07</td>\n",
       "      <td>EU</td>\n",
       "      <td>PC</td>\n",
       "      <td>A</td>\n",
       "      <td>recommender_system_test</td>\n",
       "      <td>2020-12-07 21:52:10</td>\n",
       "      <td>product_page</td>\n",
       "      <td>NaN</td>\n",
       "      <td>2020-12-07</td>\n",
       "      <td>21:52:10</td>\n",
       "    </tr>\n",
       "    <tr>\n",
       "      <th>1</th>\n",
       "      <td>D72A72121175D8BE</td>\n",
       "      <td>2020-12-07</td>\n",
       "      <td>EU</td>\n",
       "      <td>PC</td>\n",
       "      <td>A</td>\n",
       "      <td>recommender_system_test</td>\n",
       "      <td>2020-12-07 21:52:07</td>\n",
       "      <td>login</td>\n",
       "      <td>NaN</td>\n",
       "      <td>2020-12-07</td>\n",
       "      <td>21:52:07</td>\n",
       "    </tr>\n",
       "    <tr>\n",
       "      <th>42</th>\n",
       "      <td>DD4352CDCF8C3D57</td>\n",
       "      <td>2020-12-07</td>\n",
       "      <td>EU</td>\n",
       "      <td>Android</td>\n",
       "      <td>B</td>\n",
       "      <td>recommender_system_test</td>\n",
       "      <td>2020-12-07 15:32:54</td>\n",
       "      <td>product_page</td>\n",
       "      <td>NaN</td>\n",
       "      <td>2020-12-07</td>\n",
       "      <td>15:32:54</td>\n",
       "    </tr>\n",
       "    <tr>\n",
       "      <th>43</th>\n",
       "      <td>DD4352CDCF8C3D57</td>\n",
       "      <td>2020-12-07</td>\n",
       "      <td>EU</td>\n",
       "      <td>Android</td>\n",
       "      <td>B</td>\n",
       "      <td>recommender_system_test</td>\n",
       "      <td>2020-12-08 08:29:31</td>\n",
       "      <td>product_page</td>\n",
       "      <td>NaN</td>\n",
       "      <td>2020-12-08</td>\n",
       "      <td>08:29:31</td>\n",
       "    </tr>\n",
       "    <tr>\n",
       "      <th>44</th>\n",
       "      <td>DD4352CDCF8C3D57</td>\n",
       "      <td>2020-12-07</td>\n",
       "      <td>EU</td>\n",
       "      <td>Android</td>\n",
       "      <td>B</td>\n",
       "      <td>recommender_system_test</td>\n",
       "      <td>2020-12-10 18:18:27</td>\n",
       "      <td>product_page</td>\n",
       "      <td>NaN</td>\n",
       "      <td>2020-12-10</td>\n",
       "      <td>18:18:27</td>\n",
       "    </tr>\n",
       "  </tbody>\n",
       "</table>\n",
       "</div>"
      ],
      "text/plain": [
       "             user_id first_date region   device group  \\\n",
       "0   D72A72121175D8BE 2020-12-07     EU       PC     A   \n",
       "1   D72A72121175D8BE 2020-12-07     EU       PC     A   \n",
       "42  DD4352CDCF8C3D57 2020-12-07     EU  Android     B   \n",
       "43  DD4352CDCF8C3D57 2020-12-07     EU  Android     B   \n",
       "44  DD4352CDCF8C3D57 2020-12-07     EU  Android     B   \n",
       "\n",
       "                    ab_test            event_dt    event_name  details  \\\n",
       "0   recommender_system_test 2020-12-07 21:52:10  product_page      NaN   \n",
       "1   recommender_system_test 2020-12-07 21:52:07         login      NaN   \n",
       "42  recommender_system_test 2020-12-07 15:32:54  product_page      NaN   \n",
       "43  recommender_system_test 2020-12-08 08:29:31  product_page      NaN   \n",
       "44  recommender_system_test 2020-12-10 18:18:27  product_page      NaN   \n",
       "\n",
       "          date      time  \n",
       "0   2020-12-07  21:52:10  \n",
       "1   2020-12-07  21:52:07  \n",
       "42  2020-12-07  15:32:54  \n",
       "43  2020-12-08  08:29:31  \n",
       "44  2020-12-10  18:18:27  "
      ]
     },
     "execution_count": 23,
     "metadata": {},
     "output_type": "execute_result"
    }
   ],
   "source": [
    "#filtrar 'full_merged_df' por usuario y tipo de prueba\n",
    "\n",
    "filtered_merged_df = full_merged_df.query(\"user_id not in @new_users_not_eu & ab_test == 'recommender_system_test'\")\n",
    "filtered_merged_df.head()"
   ]
  },
  {
   "cell_type": "code",
   "execution_count": 24,
   "metadata": {},
   "outputs": [
    {
     "name": "stderr",
     "output_type": "stream",
     "text": [
      "C:\\Users\\Lenovo\\AppData\\Local\\Temp\\ipykernel_14896\\3951381421.py:2: SettingWithCopyWarning: \n",
      "A value is trying to be set on a copy of a slice from a DataFrame.\n",
      "Try using .loc[row_indexer,col_indexer] = value instead\n",
      "\n",
      "See the caveats in the documentation: https://pandas.pydata.org/pandas-docs/stable/user_guide/indexing.html#returning-a-view-versus-a-copy\n",
      "  filtered_merged_df['details'] = filtered_merged_df['details'].fillna(0)\n"
     ]
    }
   ],
   "source": [
    "#eliminar NaN en columna details \n",
    "filtered_merged_df['details'] = filtered_merged_df['details'].fillna(0)"
   ]
  },
  {
   "cell_type": "code",
   "execution_count": 25,
   "metadata": {},
   "outputs": [
    {
     "name": "stderr",
     "output_type": "stream",
     "text": [
      "C:\\Users\\Lenovo\\AppData\\Local\\Temp\\ipykernel_14896\\4091926004.py:2: SettingWithCopyWarning: \n",
      "A value is trying to be set on a copy of a slice from a DataFrame.\n",
      "Try using .loc[row_indexer,col_indexer] = value instead\n",
      "\n",
      "See the caveats in the documentation: https://pandas.pydata.org/pandas-docs/stable/user_guide/indexing.html#returning-a-view-versus-a-copy\n",
      "  filtered_merged_df['threshold'] = pd.to_datetime(filtered_merged_df['date']) - filtered_merged_df['first_date']\n",
      "C:\\Users\\Lenovo\\AppData\\Local\\Temp\\ipykernel_14896\\4091926004.py:5: SettingWithCopyWarning: \n",
      "A value is trying to be set on a copy of a slice from a DataFrame.\n",
      "Try using .loc[row_indexer,col_indexer] = value instead\n",
      "\n",
      "See the caveats in the documentation: https://pandas.pydata.org/pandas-docs/stable/user_guide/indexing.html#returning-a-view-versus-a-copy\n",
      "  filtered_merged_df['threshold'] = filtered_merged_df['threshold'].dt.days\n"
     ]
    }
   ],
   "source": [
    "#crear columnas con diferencia entre el ingreso y los eventos \n",
    "filtered_merged_df['threshold'] = pd.to_datetime(filtered_merged_df['date']) - filtered_merged_df['first_date']\n",
    "\n",
    "#convertir columna threshold a numérica\n",
    "filtered_merged_df['threshold'] = filtered_merged_df['threshold'].dt.days"
   ]
  },
  {
   "cell_type": "code",
   "execution_count": 26,
   "metadata": {},
   "outputs": [
    {
     "data": {
      "text/plain": [
       "np.int64(23)"
      ]
     },
     "execution_count": 26,
     "metadata": {},
     "output_type": "execute_result"
    }
   ],
   "source": [
    "#revisar si hay participantes que han sido parte por más de 14 días \n",
    "filtered_merged_df['threshold'].max()"
   ]
  },
  {
   "cell_type": "code",
   "execution_count": 27,
   "metadata": {},
   "outputs": [],
   "source": [
    "#eliminar aquellos datos en que hayan pasado más de 14 días desde la fecha de inscripción \n",
    "merged_df_14 = filtered_merged_df.query(\"threshold <= 14\")"
   ]
  },
  {
   "cell_type": "code",
   "execution_count": 28,
   "metadata": {},
   "outputs": [
    {
     "name": "stdout",
     "output_type": "stream",
     "text": [
      "El número de participantes final es de: 3481\n"
     ]
    }
   ],
   "source": [
    "#calcular total de participantes\n",
    "\n",
    "total_participants = merged_df_14['user_id'].nunique()\n",
    "print(f\"El número de participantes final es de: {total_participants}\" )"
   ]
  },
  {
   "cell_type": "markdown",
   "metadata": {},
   "source": [
    "### Resultados del preprocesamiento  \n",
    "En esta etapa se realizaron las siguientes transformaciones y ajustes para preparar los datos para el análisis:  \n",
    "\n",
    "1. **Transformación de columnas de tipo fecha:**  \n",
    "   Se ajustaron las columnas con formato de fecha en las tablas que serán utilizadas en el siguiente análisis.  \n",
    "\n",
    "2. **Unión de tablas:**  \n",
    "   Se combinaron las tablas `f_events`, `new_users` y `participants` para consolidar todos los datos relevantes y trabajar de manera más eficiente.  \n",
    "\n",
    "3. **Filtrado de datos:**  \n",
    "   Los datos se filtraron según los criterios de región, tipo de experimento y otros parámetros necesarios para el análisis.  \n",
    "\n",
    "4. **Manejo de valores faltantes:**  \n",
    "   Los valores `NaN` de la columna *details* se completaron con 0, ya que estos no representan eventos de compra.  \n",
    "\n",
    "5. **Eliminación de interacciones fuera del rango:**  \n",
    "   Se excluyeron las interacciones que exceden los 14 días, de acuerdo con el límite de efectividad establecido en los objetivos de la prueba A/B.  \n",
    "\n",
    "6. **Participantes totales:**  \n",
    "   Al realizar todas las filtraciones correspondientes, el número de usuarios que participaron en la prueba fue de 3.481. Casi un 42% menos de lo esperado.  \n",
    "\n",
    "Estas acciones aseguran que los datos estén limpios y alineados con los requerimientos del análisis posterior.\n"
   ]
  },
  {
   "cell_type": "markdown",
   "metadata": {},
   "source": [
    "## Análisis exploratorio de datos "
   ]
  },
  {
   "cell_type": "code",
   "execution_count": 29,
   "metadata": {},
   "outputs": [
    {
     "name": "stdout",
     "output_type": "stream",
     "text": [
      "2020-12-07 00:00:00\n",
      "2020-12-23 00:00:00\n",
      "None\n"
     ]
    }
   ],
   "source": [
    "#encontrar fechas de ingreso nuevos usuarios\n",
    "print(new_users['first_date'].min())\n",
    "print(print(new_users['first_date'].max())) "
   ]
  },
  {
   "cell_type": "code",
   "execution_count": 30,
   "metadata": {},
   "outputs": [
    {
     "data": {
      "text/plain": [
       "3481"
      ]
     },
     "execution_count": 30,
     "metadata": {},
     "output_type": "execute_result"
    }
   ],
   "source": [
    "#encontrar número de participantes totales\n",
    "merged_df_14['user_id'].nunique()"
   ]
  },
  {
   "cell_type": "code",
   "execution_count": 31,
   "metadata": {},
   "outputs": [
    {
     "name": "stdout",
     "output_type": "stream",
     "text": [
      "Participantes grupo A:\n",
      "2604\n",
      "\n",
      "Participantes grupo B:\n",
      "877\n"
     ]
    }
   ],
   "source": [
    "#encontrar cantidad de usuario por grupo \n",
    "\n",
    "a_group = merged_df_14.query(\"group == 'A'\")\n",
    "b_group = merged_df_14.query(\"group == 'B'\")\n",
    "print(\"Participantes grupo A:\")\n",
    "print(a_group['user_id'].nunique())\n",
    "print()\n",
    "print(\"Participantes grupo B:\")\n",
    "print(b_group['user_id'].nunique())"
   ]
  },
  {
   "cell_type": "code",
   "execution_count": 32,
   "metadata": {},
   "outputs": [
    {
     "name": "stdout",
     "output_type": "stream",
     "text": [
      "Series([], Name: group, dtype: int64)\n"
     ]
    }
   ],
   "source": [
    "#encontrar usuarios en múltiples grupos \n",
    "users_in_multiple_groups = merged_df_14.groupby('user_id')['group'].nunique()\n",
    "print(users_in_multiple_groups[users_in_multiple_groups > 1])"
   ]
  },
  {
   "cell_type": "code",
   "execution_count": 33,
   "metadata": {},
   "outputs": [
    {
     "name": "stdout",
     "output_type": "stream",
     "text": [
      "            usuario  num_eventos\n",
      "0  001064FEAAB631A1            6\n",
      "1  0010A1C096941592           12\n",
      "2  00341D8401F0F665            2\n",
      "3  003DF44D7589BBD4           15\n",
      "4  00505E15A9D81546            5\n"
     ]
    }
   ],
   "source": [
    "#calcular cantidad de eventos por usuario\n",
    "\n",
    "events_per_user= (merged_df_14\n",
    "                  .groupby('user_id')['event_name']\n",
    "                  .count()\n",
    "                  .reset_index())\n",
    "\n",
    "events_per_user.columns = ['usuario', 'num_eventos']\n",
    "\n",
    "print(events_per_user.head())"
   ]
  },
  {
   "cell_type": "code",
   "execution_count": 34,
   "metadata": {},
   "outputs": [
    {
     "data": {
      "image/png": "[encoded data removed]",
      "text/plain": [
       "<Figure size 640x480 with 1 Axes>"
      ]
     },
     "metadata": {},
     "output_type": "display_data"
    }
   ],
   "source": [
    "#revisar outliers de eventos por usuario\n",
    "\n",
    "sns.boxplot(events_per_user['num_eventos'])\n",
    "\n",
    "plt.show()"
   ]
  },
  {
   "cell_type": "code",
   "execution_count": 35,
   "metadata": {},
   "outputs": [
    {
     "name": "stdout",
     "output_type": "stream",
     "text": [
      "Media, 6.37\n",
      "Mediana: 6.0\n",
      "Moda: 0    6\n",
      "Name: num_eventos, dtype: int64\n"
     ]
    }
   ],
   "source": [
    "#Calcular eventos promedio por usuario\n",
    "print('Media,', events_per_user['num_eventos'].mean().round(2))\n",
    "\n",
    "#Calcular mediana\n",
    "print('Mediana:', events_per_user['num_eventos'].median())\n",
    "\n",
    "#Calcular moda\n",
    "print('Moda:', events_per_user['num_eventos'].mode())"
   ]
  },
  {
   "cell_type": "code",
   "execution_count": 36,
   "metadata": {},
   "outputs": [
    {
     "name": "stdout",
     "output_type": "stream",
     "text": [
      "El límite superior de outliers es: 14.0\n"
     ]
    }
   ],
   "source": [
    "#calcular límite superior outliers\n",
    "q1 = events_per_user['num_eventos'].quantile(0.25)\n",
    "q3 = events_per_user['num_eventos'].quantile(0.75)\n",
    "\n",
    "iqr = q3 - q1\n",
    "\n",
    "outliers_sup = q3 + 1.5 * iqr\n",
    "\n",
    "print(f'El límite superior de outliers es: {outliers_sup}')"
   ]
  },
  {
   "cell_type": "code",
   "execution_count": 37,
   "metadata": {},
   "outputs": [
    {
     "name": "stdout",
     "output_type": "stream",
     "text": [
      "157\n"
     ]
    }
   ],
   "source": [
    "#calcular cantidad de usuarios con num_eventos igual o mayor a 14\n",
    "outliers_users = list(events_per_user.query(\"num_eventos >= 14\")['usuario'])\n",
    "\n",
    "print(len(outliers_users))"
   ]
  },
  {
   "cell_type": "code",
   "execution_count": 38,
   "metadata": {},
   "outputs": [],
   "source": [
    "#filtrar outliers de merged_df_14 \n",
    "\n",
    "no_outliers_df = merged_df_14.query(\"user_id not in @outliers_users\")"
   ]
  },
  {
   "cell_type": "code",
   "execution_count": 39,
   "metadata": {},
   "outputs": [
    {
     "name": "stdout",
     "output_type": "stream",
     "text": [
      "Participantes grupo A:\n",
      "2465\n",
      "Antes: 2604\n",
      "\n",
      "Participantes grupo B:\n",
      "859\n",
      "Antes: 877\n"
     ]
    }
   ],
   "source": [
    "#calcular nuevamente participantes de cada grupo sin outliers \n",
    "\n",
    "a_group_no_outliers = no_outliers_df.query(\"group == 'A'\")\n",
    "b_group_no_outliers = no_outliers_df.query(\"group == 'B'\")\n",
    "print(\"Participantes grupo A:\")\n",
    "print(a_group_no_outliers['user_id'].nunique())\n",
    "print(\"Antes:\", a_group['user_id'].nunique())\n",
    "print()\n",
    "print(\"Participantes grupo B:\")\n",
    "print(b_group_no_outliers['user_id'].nunique())\n",
    "print(\"Antes:\", b_group['user_id'].nunique())"
   ]
  },
  {
   "cell_type": "code",
   "execution_count": 40,
   "metadata": {},
   "outputs": [
    {
     "name": "stdout",
     "output_type": "stream",
     "text": [
      "            usuario  num_eventos\n",
      "0  0010A1C096941592           12\n",
      "1  00341D8401F0F665            2\n",
      "2  00505E15A9D81546            5\n",
      "3  006E3E4E232CE760            6\n",
      "4  00A52DCF85F1BE03            2\n"
     ]
    }
   ],
   "source": [
    "#calcular eventos por usuario del grupo A\n",
    "events_per_user_a= (no_outliers_df\n",
    "                    .query(\"group == 'A'\")\n",
    "                    .groupby('user_id')['event_name']\n",
    "                    .count()\n",
    "                    .reset_index())\n",
    "\n",
    "events_per_user_a.columns = ['usuario', 'num_eventos']\n",
    "\n",
    "print(events_per_user_a.head())"
   ]
  },
  {
   "cell_type": "code",
   "execution_count": 41,
   "metadata": {},
   "outputs": [
    {
     "name": "stdout",
     "output_type": "stream",
     "text": [
      "Media A, 6.13\n",
      "Mediana A: 6.0\n",
      "Moda A: 0    6\n",
      "Name: num_eventos, dtype: int64\n"
     ]
    }
   ],
   "source": [
    "#Calcular eventos promedio por usuario grupo A\n",
    "print('Media A,', events_per_user_a['num_eventos'].mean().round(2))\n",
    "\n",
    "#Calcular mediana\n",
    "print('Mediana A:', events_per_user_a['num_eventos'].median())\n",
    "\n",
    "#Calcular moda\n",
    "print('Moda A:', events_per_user_a['num_eventos'].mode())"
   ]
  },
  {
   "cell_type": "code",
   "execution_count": 42,
   "metadata": {},
   "outputs": [
    {
     "name": "stdout",
     "output_type": "stream",
     "text": [
      "            usuario  num_eventos\n",
      "0  001064FEAAB631A1            6\n",
      "1  005E096DBD379BCF            4\n",
      "2  015D1E3BB893349D            6\n",
      "3  015FF3EC72C1F4F6            2\n",
      "4  01B0B891CA513468           12\n"
     ]
    }
   ],
   "source": [
    "#calcular eventos por usuario del grupo A\n",
    "events_per_user_b= (no_outliers_df\n",
    "                    .query(\"group == 'B'\")\n",
    "                    .groupby('user_id')['event_name']\n",
    "                    .count()\n",
    "                    .reset_index())\n",
    "\n",
    "events_per_user_b.columns = ['usuario', 'num_eventos']\n",
    "\n",
    "print(events_per_user_b.head())"
   ]
  },
  {
   "cell_type": "code",
   "execution_count": 43,
   "metadata": {},
   "outputs": [
    {
     "name": "stdout",
     "output_type": "stream",
     "text": [
      "Media B, 5.19\n",
      "Mediana B: 4.0\n",
      "Moda B: 0    6\n",
      "Name: num_eventos, dtype: int64\n"
     ]
    }
   ],
   "source": [
    "#Calcular eventos promedio por usuario grupo A\n",
    "print('Media B,', events_per_user_b['num_eventos'].mean().round(2))\n",
    "\n",
    "#Calcular mediana\n",
    "print('Mediana B:', events_per_user_b['num_eventos'].median())\n",
    "\n",
    "#Calcular moda\n",
    "print('Moda B:', events_per_user_b['num_eventos'].mode())"
   ]
  },
  {
   "cell_type": "code",
   "execution_count": 44,
   "metadata": {},
   "outputs": [
    {
     "name": "stdout",
     "output_type": "stream",
     "text": [
      "Embudo grupos A y B:\n",
      "\n",
      "         evento  num_ocurrencias  num_usuarios  %_usuarios\n",
      "0         login             9237          3323   35.974884\n",
      "2  product_page             5465          2031   37.163769\n",
      "1  product_cart             2398           914   38.115096\n",
      "3      purchase             2477           968   39.079532\n"
     ]
    }
   ],
   "source": [
    "#revisar frecuencia de cada evento y usuarios participantes para el total de personas\n",
    "\n",
    "ab_events_freq = (no_outliers_df.groupby('event_name').agg({'date': 'count', 'user_id': pd.Series.nunique})\n",
    "                             .reset_index())\n",
    "                             #.sort_values(by='user_id', ascending=False)\n",
    "\n",
    "ab_events_freq.columns = ['evento', 'num_ocurrencias', 'num_usuarios']\n",
    "ab_events_freq['%_usuarios'] = (ab_events_freq['num_usuarios'] / ab_events_freq['num_ocurrencias']) * 100\n",
    "\n",
    "#reordenar ab_events_freq por etapa del embudo\n",
    "ab_events_freq = ab_events_freq.reindex([0, 2, 1, 3])\n",
    "\n",
    "\n",
    "print(\"Embudo grupos A y B:\")\n",
    "print()\n",
    "print(ab_events_freq)"
   ]
  },
  {
   "cell_type": "code",
   "execution_count": 45,
   "metadata": {},
   "outputs": [
    {
     "data": {
      "application/vnd.plotly.v1+json": {
       "config": {
        "plotlyServerURL": "https://plot.ly"
       },
       "data": [
        {
         "type": "funnel",
         "x": [
          2031,
          914,
          968
         ],
         "y": [
          "product_page",
          "product_cart",
          "purchase"
         ]
        }
       ],
       "layout": {
        "template": {
         "data": {
          "bar": [
           {
            "error_x": {
             "color": "#2a3f5f"
            },
            "error_y": {
             "color": "#2a3f5f"
            },
            "marker": {
             "line": {
              "color": "#E5ECF6",
              "width": 0.5
             },
             "pattern": {
              "fillmode": "overlay",
              "size": 10,
              "solidity": 0.2
             }
            },
            "type": "bar"
           }
          ],
          "barpolar": [
           {
            "marker": {
             "line": {
              "color": "#E5ECF6",
              "width": 0.5
             },
             "pattern": {
              "fillmode": "overlay",
              "size": 10,
              "solidity": 0.2
             }
            },
            "type": "barpolar"
           }
          ],
          "carpet": [
           {
            "aaxis": {
             "endlinecolor": "#2a3f5f",
             "gridcolor": "white",
             "linecolor": "white",
             "minorgridcolor": "white",
             "startlinecolor": "#2a3f5f"
            },
            "baxis": {
             "endlinecolor": "#2a3f5f",
             "gridcolor": "white",
             "linecolor": "white",
             "minorgridcolor": "white",
             "startlinecolor": "#2a3f5f"
            },
            "type": "carpet"
           }
          ],
          "choropleth": [
           {
            "colorbar": {
             "outlinewidth": 0,
             "ticks": ""
            },
            "type": "choropleth"
           }
          ],
          "contour": [
           {
            "colorbar": {
             "outlinewidth": 0,
             "ticks": ""
            },
            "colorscale": [
             [
              0,
              "#0d0887"
             ],
             [
              0.1111111111111111,
              "#46039f"
             ],
             [
              0.2222222222222222,
              "#7201a8"
             ],
             [
              0.3333333333333333,
              "#9c179e"
             ],
             [
              0.4444444444444444,
              "#bd3786"
             ],
             [
              0.5555555555555556,
              "#d8576b"
             ],
             [
              0.6666666666666666,
              "#ed7953"
             ],
             [
              0.7777777777777778,
              "#fb9f3a"
             ],
             [
              0.8888888888888888,
              "#fdca26"
             ],
             [
              1,
              "#f0f921"
             ]
            ],
            "type": "contour"
           }
          ],
          "contourcarpet": [
           {
            "colorbar": {
             "outlinewidth": 0,
             "ticks": ""
            },
            "type": "contourcarpet"
           }
          ],
          "heatmap": [
           {
            "colorbar": {
             "outlinewidth": 0,
             "ticks": ""
            },
            "colorscale": [
             [
              0,
              "#0d0887"
             ],
             [
              0.1111111111111111,
              "#46039f"
             ],
             [
              0.2222222222222222,
              "#7201a8"
             ],
             [
              0.3333333333333333,
              "#9c179e"
             ],
             [
              0.4444444444444444,
              "#bd3786"
             ],
             [
              0.5555555555555556,
              "#d8576b"
             ],
             [
              0.6666666666666666,
              "#ed7953"
             ],
             [
              0.7777777777777778,
              "#fb9f3a"
             ],
             [
              0.8888888888888888,
              "#fdca26"
             ],
             [
              1,
              "#f0f921"
             ]
            ],
            "type": "heatmap"
           }
          ],
          "heatmapgl": [
           {
            "colorbar": {
             "outlinewidth": 0,
             "ticks": ""
            },
            "colorscale": [
             [
              0,
              "#0d0887"
             ],
             [
              0.1111111111111111,
              "#46039f"
             ],
             [
              0.2222222222222222,
              "#7201a8"
             ],
             [
              0.3333333333333333,
              "#9c179e"
             ],
             [
              0.4444444444444444,
              "#bd3786"
             ],
             [
              0.5555555555555556,
              "#d8576b"
             ],
             [
              0.6666666666666666,
              "#ed7953"
             ],
             [
              0.7777777777777778,
              "#fb9f3a"
             ],
             [
              0.8888888888888888,
              "#fdca26"
             ],
             [
              1,
              "#f0f921"
             ]
            ],
            "type": "heatmapgl"
           }
          ],
          "histogram": [
           {
            "marker": {
             "pattern": {
              "fillmode": "overlay",
              "size": 10,
              "solidity": 0.2
             }
            },
            "type": "histogram"
           }
          ],
          "histogram2d": [
           {
            "colorbar": {
             "outlinewidth": 0,
             "ticks": ""
            },
            "colorscale": [
             [
              0,
              "#0d0887"
             ],
             [
              0.1111111111111111,
              "#46039f"
             ],
             [
              0.2222222222222222,
              "#7201a8"
             ],
             [
              0.3333333333333333,
              "#9c179e"
             ],
             [
              0.4444444444444444,
              "#bd3786"
             ],
             [
              0.5555555555555556,
              "#d8576b"
             ],
             [
              0.6666666666666666,
              "#ed7953"
             ],
             [
              0.7777777777777778,
              "#fb9f3a"
             ],
             [
              0.8888888888888888,
              "#fdca26"
             ],
             [
              1,
              "#f0f921"
             ]
            ],
            "type": "histogram2d"
           }
          ],
          "histogram2dcontour": [
           {
            "colorbar": {
             "outlinewidth": 0,
             "ticks": ""
            },
            "colorscale": [
             [
              0,
              "#0d0887"
             ],
             [
              0.1111111111111111,
              "#46039f"
             ],
             [
              0.2222222222222222,
              "#7201a8"
             ],
             [
              0.3333333333333333,
              "#9c179e"
             ],
             [
              0.4444444444444444,
              "#bd3786"
             ],
             [
              0.5555555555555556,
              "#d8576b"
             ],
             [
              0.6666666666666666,
              "#ed7953"
             ],
             [
              0.7777777777777778,
              "#fb9f3a"
             ],
             [
              0.8888888888888888,
              "#fdca26"
             ],
             [
              1,
              "#f0f921"
             ]
            ],
            "type": "histogram2dcontour"
           }
          ],
          "mesh3d": [
           {
            "colorbar": {
             "outlinewidth": 0,
             "ticks": ""
            },
            "type": "mesh3d"
           }
          ],
          "parcoords": [
           {
            "line": {
             "colorbar": {
              "outlinewidth": 0,
              "ticks": ""
             }
            },
            "type": "parcoords"
           }
          ],
          "pie": [
           {
            "automargin": true,
            "type": "pie"
           }
          ],
          "scatter": [
           {
            "fillpattern": {
             "fillmode": "overlay",
             "size": 10,
             "solidity": 0.2
            },
            "type": "scatter"
           }
          ],
          "scatter3d": [
           {
            "line": {
             "colorbar": {
              "outlinewidth": 0,
              "ticks": ""
             }
            },
            "marker": {
             "colorbar": {
              "outlinewidth": 0,
              "ticks": ""
             }
            },
            "type": "scatter3d"
           }
          ],
          "scattercarpet": [
           {
            "marker": {
             "colorbar": {
              "outlinewidth": 0,
              "ticks": ""
             }
            },
            "type": "scattercarpet"
           }
          ],
          "scattergeo": [
           {
            "marker": {
             "colorbar": {
              "outlinewidth": 0,
              "ticks": ""
             }
            },
            "type": "scattergeo"
           }
          ],
          "scattergl": [
           {
            "marker": {
             "colorbar": {
              "outlinewidth": 0,
              "ticks": ""
             }
            },
            "type": "scattergl"
           }
          ],
          "scattermapbox": [
           {
            "marker": {
             "colorbar": {
              "outlinewidth": 0,
              "ticks": ""
             }
            },
            "type": "scattermapbox"
           }
          ],
          "scatterpolar": [
           {
            "marker": {
             "colorbar": {
              "outlinewidth": 0,
              "ticks": ""
             }
            },
            "type": "scatterpolar"
           }
          ],
          "scatterpolargl": [
           {
            "marker": {
             "colorbar": {
              "outlinewidth": 0,
              "ticks": ""
             }
            },
            "type": "scatterpolargl"
           }
          ],
          "scatterternary": [
           {
            "marker": {
             "colorbar": {
              "outlinewidth": 0,
              "ticks": ""
             }
            },
            "type": "scatterternary"
           }
          ],
          "surface": [
           {
            "colorbar": {
             "outlinewidth": 0,
             "ticks": ""
            },
            "colorscale": [
             [
              0,
              "#0d0887"
             ],
             [
              0.1111111111111111,
              "#46039f"
             ],
             [
              0.2222222222222222,
              "#7201a8"
             ],
             [
              0.3333333333333333,
              "#9c179e"
             ],
             [
              0.4444444444444444,
              "#bd3786"
             ],
             [
              0.5555555555555556,
              "#d8576b"
             ],
             [
              0.6666666666666666,
              "#ed7953"
             ],
             [
              0.7777777777777778,
              "#fb9f3a"
             ],
             [
              0.8888888888888888,
              "#fdca26"
             ],
             [
              1,
              "#f0f921"
             ]
            ],
            "type": "surface"
           }
          ],
          "table": [
           {
            "cells": {
             "fill": {
              "color": "#EBF0F8"
             },
             "line": {
              "color": "white"
             }
            },
            "header": {
             "fill": {
              "color": "#C8D4E3"
             },
             "line": {
              "color": "white"
             }
            },
            "type": "table"
           }
          ]
         },
         "layout": {
          "annotationdefaults": {
           "arrowcolor": "#2a3f5f",
           "arrowhead": 0,
           "arrowwidth": 1
          },
          "autotypenumbers": "strict",
          "coloraxis": {
           "colorbar": {
            "outlinewidth": 0,
            "ticks": ""
           }
          },
          "colorscale": {
           "diverging": [
            [
             0,
             "#8e0152"
            ],
            [
             0.1,
             "#c51b7d"
            ],
            [
             0.2,
             "#de77ae"
            ],
            [
             0.3,
             "#f1b6da"
            ],
            [
             0.4,
             "#fde0ef"
            ],
            [
             0.5,
             "#f7f7f7"
            ],
            [
             0.6,
             "#e6f5d0"
            ],
            [
             0.7,
             "#b8e186"
            ],
            [
             0.8,
             "#7fbc41"
            ],
            [
             0.9,
             "#4d9221"
            ],
            [
             1,
             "#276419"
            ]
           ],
           "sequential": [
            [
             0,
             "#0d0887"
            ],
            [
             0.1111111111111111,
             "#46039f"
            ],
            [
             0.2222222222222222,
             "#7201a8"
            ],
            [
             0.3333333333333333,
             "#9c179e"
            ],
            [
             0.4444444444444444,
             "#bd3786"
            ],
            [
             0.5555555555555556,
             "#d8576b"
            ],
            [
             0.6666666666666666,
             "#ed7953"
            ],
            [
             0.7777777777777778,
             "#fb9f3a"
            ],
            [
             0.8888888888888888,
             "#fdca26"
            ],
            [
             1,
             "#f0f921"
            ]
           ],
           "sequentialminus": [
            [
             0,
             "#0d0887"
            ],
            [
             0.1111111111111111,
             "#46039f"
            ],
            [
             0.2222222222222222,
             "#7201a8"
            ],
            [
             0.3333333333333333,
             "#9c179e"
            ],
            [
             0.4444444444444444,
             "#bd3786"
            ],
            [
             0.5555555555555556,
             "#d8576b"
            ],
            [
             0.6666666666666666,
             "#ed7953"
            ],
            [
             0.7777777777777778,
             "#fb9f3a"
            ],
            [
             0.8888888888888888,
             "#fdca26"
            ],
            [
             1,
             "#f0f921"
            ]
           ]
          },
          "colorway": [
           "#636efa",
           "#EF553B",
           "#00cc96",
           "#ab63fa",
           "#FFA15A",
           "#19d3f3",
           "#FF6692",
           "#B6E880",
           "#FF97FF",
           "#FECB52"
          ],
          "font": {
           "color": "#2a3f5f"
          },
          "geo": {
           "bgcolor": "white",
           "lakecolor": "white",
           "landcolor": "#E5ECF6",
           "showlakes": true,
           "showland": true,
           "subunitcolor": "white"
          },
          "hoverlabel": {
           "align": "left"
          },
          "hovermode": "closest",
          "mapbox": {
           "style": "light"
          },
          "paper_bgcolor": "white",
          "plot_bgcolor": "#E5ECF6",
          "polar": {
           "angularaxis": {
            "gridcolor": "white",
            "linecolor": "white",
            "ticks": ""
           },
           "bgcolor": "#E5ECF6",
           "radialaxis": {
            "gridcolor": "white",
            "linecolor": "white",
            "ticks": ""
           }
          },
          "scene": {
           "xaxis": {
            "backgroundcolor": "#E5ECF6",
            "gridcolor": "white",
            "gridwidth": 2,
            "linecolor": "white",
            "showbackground": true,
            "ticks": "",
            "zerolinecolor": "white"
           },
           "yaxis": {
            "backgroundcolor": "#E5ECF6",
            "gridcolor": "white",
            "gridwidth": 2,
            "linecolor": "white",
            "showbackground": true,
            "ticks": "",
            "zerolinecolor": "white"
           },
           "zaxis": {
            "backgroundcolor": "#E5ECF6",
            "gridcolor": "white",
            "gridwidth": 2,
            "linecolor": "white",
            "showbackground": true,
            "ticks": "",
            "zerolinecolor": "white"
           }
          },
          "shapedefaults": {
           "line": {
            "color": "#2a3f5f"
           }
          },
          "ternary": {
           "aaxis": {
            "gridcolor": "white",
            "linecolor": "white",
            "ticks": ""
           },
           "baxis": {
            "gridcolor": "white",
            "linecolor": "white",
            "ticks": ""
           },
           "bgcolor": "#E5ECF6",
           "caxis": {
            "gridcolor": "white",
            "linecolor": "white",
            "ticks": ""
           }
          },
          "title": {
           "x": 0.05
          },
          "xaxis": {
           "automargin": true,
           "gridcolor": "white",
           "linecolor": "white",
           "ticks": "",
           "title": {
            "standoff": 15
           },
           "zerolinecolor": "white",
           "zerolinewidth": 2
          },
          "yaxis": {
           "automargin": true,
           "gridcolor": "white",
           "linecolor": "white",
           "ticks": "",
           "title": {
            "standoff": 15
           },
           "zerolinecolor": "white",
           "zerolinewidth": 2
          }
         }
        }
       }
      }
     },
     "metadata": {},
     "output_type": "display_data"
    }
   ],
   "source": [
    "#realizar embudo para ab_events_freq\n",
    "\n",
    "ab_events_funnel = ab_events_freq.query('evento != \"login\"')\n",
    "\n",
    "fig = go.Figure(go.Funnel(\n",
    "   y=ab_events_funnel['evento'],\n",
    "    x=ab_events_funnel['num_usuarios']\n",
    "))\n",
    "\n",
    "# Mostrar el gráfico\n",
    "fig.show()"
   ]
  },
  {
   "cell_type": "code",
   "execution_count": 46,
   "metadata": {},
   "outputs": [
    {
     "name": "stdout",
     "output_type": "stream",
     "text": [
      "Embudo grupo A:\n",
      "\n",
      "         evento  num_ocurrencias  num_usuarios  %_usuarios\n",
      "0         login             7024          2465   35.093964\n",
      "2  product_page             4316          1555   36.028730\n",
      "1  product_cart             1840           682   37.065217\n",
      "3      purchase             1937           734   37.893650\n"
     ]
    }
   ],
   "source": [
    "#revisar frecuencia de cada evento y usuarios participantes para el grupo A\n",
    "\n",
    "a_events_freq = (no_outliers_df.query(\"group == 'A'\")\n",
    "                            .groupby('event_name').agg({'date': 'count', 'user_id': pd.Series.nunique})\n",
    "                             .reset_index())\n",
    "                             #.sort_values(by='user_id', ascending=False)\n",
    "\n",
    "a_events_freq.columns = ['evento', 'num_ocurrencias', 'num_usuarios']\n",
    "a_events_freq['%_usuarios'] = (a_events_freq['num_usuarios'] / a_events_freq['num_ocurrencias']) * 100\n",
    "\n",
    "#reordenar ab_events_freq por etapa del embudo\n",
    "a_events_freq = a_events_freq.reindex([0, 2, 1, 3])\n",
    "\n",
    "print(\"Embudo grupo A:\")\n",
    "print()\n",
    "print(a_events_freq)"
   ]
  },
  {
   "cell_type": "code",
   "execution_count": 47,
   "metadata": {},
   "outputs": [
    {
     "data": {
      "application/vnd.plotly.v1+json": {
       "config": {
        "plotlyServerURL": "https://plot.ly"
       },
       "data": [
        {
         "type": "funnel",
         "x": [
          1555,
          682,
          734
         ],
         "y": [
          "product_page",
          "product_cart",
          "purchase"
         ]
        }
       ],
       "layout": {
        "template": {
         "data": {
          "bar": [
           {
            "error_x": {
             "color": "#2a3f5f"
            },
            "error_y": {
             "color": "#2a3f5f"
            },
            "marker": {
             "line": {
              "color": "#E5ECF6",
              "width": 0.5
             },
             "pattern": {
              "fillmode": "overlay",
              "size": 10,
              "solidity": 0.2
             }
            },
            "type": "bar"
           }
          ],
          "barpolar": [
           {
            "marker": {
             "line": {
              "color": "#E5ECF6",
              "width": 0.5
             },
             "pattern": {
              "fillmode": "overlay",
              "size": 10,
              "solidity": 0.2
             }
            },
            "type": "barpolar"
           }
          ],
          "carpet": [
           {
            "aaxis": {
             "endlinecolor": "#2a3f5f",
             "gridcolor": "white",
             "linecolor": "white",
             "minorgridcolor": "white",
             "startlinecolor": "#2a3f5f"
            },
            "baxis": {
             "endlinecolor": "#2a3f5f",
             "gridcolor": "white",
             "linecolor": "white",
             "minorgridcolor": "white",
             "startlinecolor": "#2a3f5f"
            },
            "type": "carpet"
           }
          ],
          "choropleth": [
           {
            "colorbar": {
             "outlinewidth": 0,
             "ticks": ""
            },
            "type": "choropleth"
           }
          ],
          "contour": [
           {
            "colorbar": {
             "outlinewidth": 0,
             "ticks": ""
            },
            "colorscale": [
             [
              0,
              "#0d0887"
             ],
             [
              0.1111111111111111,
              "#46039f"
             ],
             [
              0.2222222222222222,
              "#7201a8"
             ],
             [
              0.3333333333333333,
              "#9c179e"
             ],
             [
              0.4444444444444444,
              "#bd3786"
             ],
             [
              0.5555555555555556,
              "#d8576b"
             ],
             [
              0.6666666666666666,
              "#ed7953"
             ],
             [
              0.7777777777777778,
              "#fb9f3a"
             ],
             [
              0.8888888888888888,
              "#fdca26"
             ],
             [
              1,
              "#f0f921"
             ]
            ],
            "type": "contour"
           }
          ],
          "contourcarpet": [
           {
            "colorbar": {
             "outlinewidth": 0,
             "ticks": ""
            },
            "type": "contourcarpet"
           }
          ],
          "heatmap": [
           {
            "colorbar": {
             "outlinewidth": 0,
             "ticks": ""
            },
            "colorscale": [
             [
              0,
              "#0d0887"
             ],
             [
              0.1111111111111111,
              "#46039f"
             ],
             [
              0.2222222222222222,
              "#7201a8"
             ],
             [
              0.3333333333333333,
              "#9c179e"
             ],
             [
              0.4444444444444444,
              "#bd3786"
             ],
             [
              0.5555555555555556,
              "#d8576b"
             ],
             [
              0.6666666666666666,
              "#ed7953"
             ],
             [
              0.7777777777777778,
              "#fb9f3a"
             ],
             [
              0.8888888888888888,
              "#fdca26"
             ],
             [
              1,
              "#f0f921"
             ]
            ],
            "type": "heatmap"
           }
          ],
          "heatmapgl": [
           {
            "colorbar": {
             "outlinewidth": 0,
             "ticks": ""
            },
            "colorscale": [
             [
              0,
              "#0d0887"
             ],
             [
              0.1111111111111111,
              "#46039f"
             ],
             [
              0.2222222222222222,
              "#7201a8"
             ],
             [
              0.3333333333333333,
              "#9c179e"
             ],
             [
              0.4444444444444444,
              "#bd3786"
             ],
             [
              0.5555555555555556,
              "#d8576b"
             ],
             [
              0.6666666666666666,
              "#ed7953"
             ],
             [
              0.7777777777777778,
              "#fb9f3a"
             ],
             [
              0.8888888888888888,
              "#fdca26"
             ],
             [
              1,
              "#f0f921"
             ]
            ],
            "type": "heatmapgl"
           }
          ],
          "histogram": [
           {
            "marker": {
             "pattern": {
              "fillmode": "overlay",
              "size": 10,
              "solidity": 0.2
             }
            },
            "type": "histogram"
           }
          ],
          "histogram2d": [
           {
            "colorbar": {
             "outlinewidth": 0,
             "ticks": ""
            },
            "colorscale": [
             [
              0,
              "#0d0887"
             ],
             [
              0.1111111111111111,
              "#46039f"
             ],
             [
              0.2222222222222222,
              "#7201a8"
             ],
             [
              0.3333333333333333,
              "#9c179e"
             ],
             [
              0.4444444444444444,
              "#bd3786"
             ],
             [
              0.5555555555555556,
              "#d8576b"
             ],
             [
              0.6666666666666666,
              "#ed7953"
             ],
             [
              0.7777777777777778,
              "#fb9f3a"
             ],
             [
              0.8888888888888888,
              "#fdca26"
             ],
             [
              1,
              "#f0f921"
             ]
            ],
            "type": "histogram2d"
           }
          ],
          "histogram2dcontour": [
           {
            "colorbar": {
             "outlinewidth": 0,
             "ticks": ""
            },
            "colorscale": [
             [
              0,
              "#0d0887"
             ],
             [
              0.1111111111111111,
              "#46039f"
             ],
             [
              0.2222222222222222,
              "#7201a8"
             ],
             [
              0.3333333333333333,
              "#9c179e"
             ],
             [
              0.4444444444444444,
              "#bd3786"
             ],
             [
              0.5555555555555556,
              "#d8576b"
             ],
             [
              0.6666666666666666,
              "#ed7953"
             ],
             [
              0.7777777777777778,
              "#fb9f3a"
             ],
             [
              0.8888888888888888,
              "#fdca26"
             ],
             [
              1,
              "#f0f921"
             ]
            ],
            "type": "histogram2dcontour"
           }
          ],
          "mesh3d": [
           {
            "colorbar": {
             "outlinewidth": 0,
             "ticks": ""
            },
            "type": "mesh3d"
           }
          ],
          "parcoords": [
           {
            "line": {
             "colorbar": {
              "outlinewidth": 0,
              "ticks": ""
             }
            },
            "type": "parcoords"
           }
          ],
          "pie": [
           {
            "automargin": true,
            "type": "pie"
           }
          ],
          "scatter": [
           {
            "fillpattern": {
             "fillmode": "overlay",
             "size": 10,
             "solidity": 0.2
            },
            "type": "scatter"
           }
          ],
          "scatter3d": [
           {
            "line": {
             "colorbar": {
              "outlinewidth": 0,
              "ticks": ""
             }
            },
            "marker": {
             "colorbar": {
              "outlinewidth": 0,
              "ticks": ""
             }
            },
            "type": "scatter3d"
           }
          ],
          "scattercarpet": [
           {
            "marker": {
             "colorbar": {
              "outlinewidth": 0,
              "ticks": ""
             }
            },
            "type": "scattercarpet"
           }
          ],
          "scattergeo": [
           {
            "marker": {
             "colorbar": {
              "outlinewidth": 0,
              "ticks": ""
             }
            },
            "type": "scattergeo"
           }
          ],
          "scattergl": [
           {
            "marker": {
             "colorbar": {
              "outlinewidth": 0,
              "ticks": ""
             }
            },
            "type": "scattergl"
           }
          ],
          "scattermapbox": [
           {
            "marker": {
             "colorbar": {
              "outlinewidth": 0,
              "ticks": ""
             }
            },
            "type": "scattermapbox"
           }
          ],
          "scatterpolar": [
           {
            "marker": {
             "colorbar": {
              "outlinewidth": 0,
              "ticks": ""
             }
            },
            "type": "scatterpolar"
           }
          ],
          "scatterpolargl": [
           {
            "marker": {
             "colorbar": {
              "outlinewidth": 0,
              "ticks": ""
             }
            },
            "type": "scatterpolargl"
           }
          ],
          "scatterternary": [
           {
            "marker": {
             "colorbar": {
              "outlinewidth": 0,
              "ticks": ""
             }
            },
            "type": "scatterternary"
           }
          ],
          "surface": [
           {
            "colorbar": {
             "outlinewidth": 0,
             "ticks": ""
            },
            "colorscale": [
             [
              0,
              "#0d0887"
             ],
             [
              0.1111111111111111,
              "#46039f"
             ],
             [
              0.2222222222222222,
              "#7201a8"
             ],
             [
              0.3333333333333333,
              "#9c179e"
             ],
             [
              0.4444444444444444,
              "#bd3786"
             ],
             [
              0.5555555555555556,
              "#d8576b"
             ],
             [
              0.6666666666666666,
              "#ed7953"
             ],
             [
              0.7777777777777778,
              "#fb9f3a"
             ],
             [
              0.8888888888888888,
              "#fdca26"
             ],
             [
              1,
              "#f0f921"
             ]
            ],
            "type": "surface"
           }
          ],
          "table": [
           {
            "cells": {
             "fill": {
              "color": "#EBF0F8"
             },
             "line": {
              "color": "white"
             }
            },
            "header": {
             "fill": {
              "color": "#C8D4E3"
             },
             "line": {
              "color": "white"
             }
            },
            "type": "table"
           }
          ]
         },
         "layout": {
          "annotationdefaults": {
           "arrowcolor": "#2a3f5f",
           "arrowhead": 0,
           "arrowwidth": 1
          },
          "autotypenumbers": "strict",
          "coloraxis": {
           "colorbar": {
            "outlinewidth": 0,
            "ticks": ""
           }
          },
          "colorscale": {
           "diverging": [
            [
             0,
             "#8e0152"
            ],
            [
             0.1,
             "#c51b7d"
            ],
            [
             0.2,
             "#de77ae"
            ],
            [
             0.3,
             "#f1b6da"
            ],
            [
             0.4,
             "#fde0ef"
            ],
            [
             0.5,
             "#f7f7f7"
            ],
            [
             0.6,
             "#e6f5d0"
            ],
            [
             0.7,
             "#b8e186"
            ],
            [
             0.8,
             "#7fbc41"
            ],
            [
             0.9,
             "#4d9221"
            ],
            [
             1,
             "#276419"
            ]
           ],
           "sequential": [
            [
             0,
             "#0d0887"
            ],
            [
             0.1111111111111111,
             "#46039f"
            ],
            [
             0.2222222222222222,
             "#7201a8"
            ],
            [
             0.3333333333333333,
             "#9c179e"
            ],
            [
             0.4444444444444444,
             "#bd3786"
            ],
            [
             0.5555555555555556,
             "#d8576b"
            ],
            [
             0.6666666666666666,
             "#ed7953"
            ],
            [
             0.7777777777777778,
             "#fb9f3a"
            ],
            [
             0.8888888888888888,
             "#fdca26"
            ],
            [
             1,
             "#f0f921"
            ]
           ],
           "sequentialminus": [
            [
             0,
             "#0d0887"
            ],
            [
             0.1111111111111111,
             "#46039f"
            ],
            [
             0.2222222222222222,
             "#7201a8"
            ],
            [
             0.3333333333333333,
             "#9c179e"
            ],
            [
             0.4444444444444444,
             "#bd3786"
            ],
            [
             0.5555555555555556,
             "#d8576b"
            ],
            [
             0.6666666666666666,
             "#ed7953"
            ],
            [
             0.7777777777777778,
             "#fb9f3a"
            ],
            [
             0.8888888888888888,
             "#fdca26"
            ],
            [
             1,
             "#f0f921"
            ]
           ]
          },
          "colorway": [
           "#636efa",
           "#EF553B",
           "#00cc96",
           "#ab63fa",
           "#FFA15A",
           "#19d3f3",
           "#FF6692",
           "#B6E880",
           "#FF97FF",
           "#FECB52"
          ],
          "font": {
           "color": "#2a3f5f"
          },
          "geo": {
           "bgcolor": "white",
           "lakecolor": "white",
           "landcolor": "#E5ECF6",
           "showlakes": true,
           "showland": true,
           "subunitcolor": "white"
          },
          "hoverlabel": {
           "align": "left"
          },
          "hovermode": "closest",
          "mapbox": {
           "style": "light"
          },
          "paper_bgcolor": "white",
          "plot_bgcolor": "#E5ECF6",
          "polar": {
           "angularaxis": {
            "gridcolor": "white",
            "linecolor": "white",
            "ticks": ""
           },
           "bgcolor": "#E5ECF6",
           "radialaxis": {
            "gridcolor": "white",
            "linecolor": "white",
            "ticks": ""
           }
          },
          "scene": {
           "xaxis": {
            "backgroundcolor": "#E5ECF6",
            "gridcolor": "white",
            "gridwidth": 2,
            "linecolor": "white",
            "showbackground": true,
            "ticks": "",
            "zerolinecolor": "white"
           },
           "yaxis": {
            "backgroundcolor": "#E5ECF6",
            "gridcolor": "white",
            "gridwidth": 2,
            "linecolor": "white",
            "showbackground": true,
            "ticks": "",
            "zerolinecolor": "white"
           },
           "zaxis": {
            "backgroundcolor": "#E5ECF6",
            "gridcolor": "white",
            "gridwidth": 2,
            "linecolor": "white",
            "showbackground": true,
            "ticks": "",
            "zerolinecolor": "white"
           }
          },
          "shapedefaults": {
           "line": {
            "color": "#2a3f5f"
           }
          },
          "ternary": {
           "aaxis": {
            "gridcolor": "white",
            "linecolor": "white",
            "ticks": ""
           },
           "baxis": {
            "gridcolor": "white",
            "linecolor": "white",
            "ticks": ""
           },
           "bgcolor": "#E5ECF6",
           "caxis": {
            "gridcolor": "white",
            "linecolor": "white",
            "ticks": ""
           }
          },
          "title": {
           "x": 0.05
          },
          "xaxis": {
           "automargin": true,
           "gridcolor": "white",
           "linecolor": "white",
           "ticks": "",
           "title": {
            "standoff": 15
           },
           "zerolinecolor": "white",
           "zerolinewidth": 2
          },
          "yaxis": {
           "automargin": true,
           "gridcolor": "white",
           "linecolor": "white",
           "ticks": "",
           "title": {
            "standoff": 15
           },
           "zerolinecolor": "white",
           "zerolinewidth": 2
          }
         }
        }
       }
      }
     },
     "metadata": {},
     "output_type": "display_data"
    }
   ],
   "source": [
    "#realizar embudo para a_events_freq\n",
    "\n",
    "a_events_funnel = a_events_freq.query('evento != \"login\"')\n",
    "\n",
    "fig = go.Figure(go.Funnel(\n",
    "   y=a_events_funnel['evento'],\n",
    "    x=a_events_funnel['num_usuarios']\n",
    "))\n",
    "\n",
    "# Mostrar el gráfico\n",
    "fig.show()"
   ]
  },
  {
   "cell_type": "code",
   "execution_count": 48,
   "metadata": {},
   "outputs": [
    {
     "name": "stdout",
     "output_type": "stream",
     "text": [
      "Embudo grupo B:\n",
      "\n",
      "         evento  num_ocurrencias  num_usuarios  %_usuarios\n",
      "0         login             2213           858   38.770899\n",
      "2  product_page             1149           476   41.427328\n",
      "1  product_cart              558           232   41.577061\n",
      "3      purchase              540           234   43.333333\n"
     ]
    }
   ],
   "source": [
    "#revisar frecuencia de cada evento y usuarios participantes para el grupo B\n",
    "\n",
    "b_events_freq = (no_outliers_df\n",
    "                 .query(\"group == 'B'\")\n",
    "                 .groupby('event_name').agg({'date': 'count', 'user_id': pd.Series.nunique})\n",
    "                 .reset_index())\n",
    "                 #.sort_values(by='user_id', ascending=False)\n",
    "\n",
    "b_events_freq.columns = ['evento', 'num_ocurrencias', 'num_usuarios']\n",
    "b_events_freq['%_usuarios'] = (b_events_freq['num_usuarios'] / b_events_freq['num_ocurrencias']) * 100\n",
    "\n",
    "#reordenar ab_events_freq por etapa del embudo\n",
    "b_events_freq = b_events_freq.reindex([0, 2, 1, 3])\n",
    "\n",
    "print(\"Embudo grupo B:\")\n",
    "print()\n",
    "print(b_events_freq)"
   ]
  },
  {
   "cell_type": "code",
   "execution_count": 49,
   "metadata": {},
   "outputs": [
    {
     "data": {
      "application/vnd.plotly.v1+json": {
       "config": {
        "plotlyServerURL": "https://plot.ly"
       },
       "data": [
        {
         "type": "funnel",
         "x": [
          476,
          232,
          234
         ],
         "y": [
          "product_page",
          "product_cart",
          "purchase"
         ]
        }
       ],
       "layout": {
        "template": {
         "data": {
          "bar": [
           {
            "error_x": {
             "color": "#2a3f5f"
            },
            "error_y": {
             "color": "#2a3f5f"
            },
            "marker": {
             "line": {
              "color": "#E5ECF6",
              "width": 0.5
             },
             "pattern": {
              "fillmode": "overlay",
              "size": 10,
              "solidity": 0.2
             }
            },
            "type": "bar"
           }
          ],
          "barpolar": [
           {
            "marker": {
             "line": {
              "color": "#E5ECF6",
              "width": 0.5
             },
             "pattern": {
              "fillmode": "overlay",
              "size": 10,
              "solidity": 0.2
             }
            },
            "type": "barpolar"
           }
          ],
          "carpet": [
           {
            "aaxis": {
             "endlinecolor": "#2a3f5f",
             "gridcolor": "white",
             "linecolor": "white",
             "minorgridcolor": "white",
             "startlinecolor": "#2a3f5f"
            },
            "baxis": {
             "endlinecolor": "#2a3f5f",
             "gridcolor": "white",
             "linecolor": "white",
             "minorgridcolor": "white",
             "startlinecolor": "#2a3f5f"
            },
            "type": "carpet"
           }
          ],
          "choropleth": [
           {
            "colorbar": {
             "outlinewidth": 0,
             "ticks": ""
            },
            "type": "choropleth"
           }
          ],
          "contour": [
           {
            "colorbar": {
             "outlinewidth": 0,
             "ticks": ""
            },
            "colorscale": [
             [
              0,
              "#0d0887"
             ],
             [
              0.1111111111111111,
              "#46039f"
             ],
             [
              0.2222222222222222,
              "#7201a8"
             ],
             [
              0.3333333333333333,
              "#9c179e"
             ],
             [
              0.4444444444444444,
              "#bd3786"
             ],
             [
              0.5555555555555556,
              "#d8576b"
             ],
             [
              0.6666666666666666,
              "#ed7953"
             ],
             [
              0.7777777777777778,
              "#fb9f3a"
             ],
             [
              0.8888888888888888,
              "#fdca26"
             ],
             [
              1,
              "#f0f921"
             ]
            ],
            "type": "contour"
           }
          ],
          "contourcarpet": [
           {
            "colorbar": {
             "outlinewidth": 0,
             "ticks": ""
            },
            "type": "contourcarpet"
           }
          ],
          "heatmap": [
           {
            "colorbar": {
             "outlinewidth": 0,
             "ticks": ""
            },
            "colorscale": [
             [
              0,
              "#0d0887"
             ],
             [
              0.1111111111111111,
              "#46039f"
             ],
             [
              0.2222222222222222,
              "#7201a8"
             ],
             [
              0.3333333333333333,
              "#9c179e"
             ],
             [
              0.4444444444444444,
              "#bd3786"
             ],
             [
              0.5555555555555556,
              "#d8576b"
             ],
             [
              0.6666666666666666,
              "#ed7953"
             ],
             [
              0.7777777777777778,
              "#fb9f3a"
             ],
             [
              0.8888888888888888,
              "#fdca26"
             ],
             [
              1,
              "#f0f921"
             ]
            ],
            "type": "heatmap"
           }
          ],
          "heatmapgl": [
           {
            "colorbar": {
             "outlinewidth": 0,
             "ticks": ""
            },
            "colorscale": [
             [
              0,
              "#0d0887"
             ],
             [
              0.1111111111111111,
              "#46039f"
             ],
             [
              0.2222222222222222,
              "#7201a8"
             ],
             [
              0.3333333333333333,
              "#9c179e"
             ],
             [
              0.4444444444444444,
              "#bd3786"
             ],
             [
              0.5555555555555556,
              "#d8576b"
             ],
             [
              0.6666666666666666,
              "#ed7953"
             ],
             [
              0.7777777777777778,
              "#fb9f3a"
             ],
             [
              0.8888888888888888,
              "#fdca26"
             ],
             [
              1,
              "#f0f921"
             ]
            ],
            "type": "heatmapgl"
           }
          ],
          "histogram": [
           {
            "marker": {
             "pattern": {
              "fillmode": "overlay",
              "size": 10,
              "solidity": 0.2
             }
            },
            "type": "histogram"
           }
          ],
          "histogram2d": [
           {
            "colorbar": {
             "outlinewidth": 0,
             "ticks": ""
            },
            "colorscale": [
             [
              0,
              "#0d0887"
             ],
             [
              0.1111111111111111,
              "#46039f"
             ],
             [
              0.2222222222222222,
              "#7201a8"
             ],
             [
              0.3333333333333333,
              "#9c179e"
             ],
             [
              0.4444444444444444,
              "#bd3786"
             ],
             [
              0.5555555555555556,
              "#d8576b"
             ],
             [
              0.6666666666666666,
              "#ed7953"
             ],
             [
              0.7777777777777778,
              "#fb9f3a"
             ],
             [
              0.8888888888888888,
              "#fdca26"
             ],
             [
              1,
              "#f0f921"
             ]
            ],
            "type": "histogram2d"
           }
          ],
          "histogram2dcontour": [
           {
            "colorbar": {
             "outlinewidth": 0,
             "ticks": ""
            },
            "colorscale": [
             [
              0,
              "#0d0887"
             ],
             [
              0.1111111111111111,
              "#46039f"
             ],
             [
              0.2222222222222222,
              "#7201a8"
             ],
             [
              0.3333333333333333,
              "#9c179e"
             ],
             [
              0.4444444444444444,
              "#bd3786"
             ],
             [
              0.5555555555555556,
              "#d8576b"
             ],
             [
              0.6666666666666666,
              "#ed7953"
             ],
             [
              0.7777777777777778,
              "#fb9f3a"
             ],
             [
              0.8888888888888888,
              "#fdca26"
             ],
             [
              1,
              "#f0f921"
             ]
            ],
            "type": "histogram2dcontour"
           }
          ],
          "mesh3d": [
           {
            "colorbar": {
             "outlinewidth": 0,
             "ticks": ""
            },
            "type": "mesh3d"
           }
          ],
          "parcoords": [
           {
            "line": {
             "colorbar": {
              "outlinewidth": 0,
              "ticks": ""
             }
            },
            "type": "parcoords"
           }
          ],
          "pie": [
           {
            "automargin": true,
            "type": "pie"
           }
          ],
          "scatter": [
           {
            "fillpattern": {
             "fillmode": "overlay",
             "size": 10,
             "solidity": 0.2
            },
            "type": "scatter"
           }
          ],
          "scatter3d": [
           {
            "line": {
             "colorbar": {
              "outlinewidth": 0,
              "ticks": ""
             }
            },
            "marker": {
             "colorbar": {
              "outlinewidth": 0,
              "ticks": ""
             }
            },
            "type": "scatter3d"
           }
          ],
          "scattercarpet": [
           {
            "marker": {
             "colorbar": {
              "outlinewidth": 0,
              "ticks": ""
             }
            },
            "type": "scattercarpet"
           }
          ],
          "scattergeo": [
           {
            "marker": {
             "colorbar": {
              "outlinewidth": 0,
              "ticks": ""
             }
            },
            "type": "scattergeo"
           }
          ],
          "scattergl": [
           {
            "marker": {
             "colorbar": {
              "outlinewidth": 0,
              "ticks": ""
             }
            },
            "type": "scattergl"
           }
          ],
          "scattermapbox": [
           {
            "marker": {
             "colorbar": {
              "outlinewidth": 0,
              "ticks": ""
             }
            },
            "type": "scattermapbox"
           }
          ],
          "scatterpolar": [
           {
            "marker": {
             "colorbar": {
              "outlinewidth": 0,
              "ticks": ""
             }
            },
            "type": "scatterpolar"
           }
          ],
          "scatterpolargl": [
           {
            "marker": {
             "colorbar": {
              "outlinewidth": 0,
              "ticks": ""
             }
            },
            "type": "scatterpolargl"
           }
          ],
          "scatterternary": [
           {
            "marker": {
             "colorbar": {
              "outlinewidth": 0,
              "ticks": ""
             }
            },
            "type": "scatterternary"
           }
          ],
          "surface": [
           {
            "colorbar": {
             "outlinewidth": 0,
             "ticks": ""
            },
            "colorscale": [
             [
              0,
              "#0d0887"
             ],
             [
              0.1111111111111111,
              "#46039f"
             ],
             [
              0.2222222222222222,
              "#7201a8"
             ],
             [
              0.3333333333333333,
              "#9c179e"
             ],
             [
              0.4444444444444444,
              "#bd3786"
             ],
             [
              0.5555555555555556,
              "#d8576b"
             ],
             [
              0.6666666666666666,
              "#ed7953"
             ],
             [
              0.7777777777777778,
              "#fb9f3a"
             ],
             [
              0.8888888888888888,
              "#fdca26"
             ],
             [
              1,
              "#f0f921"
             ]
            ],
            "type": "surface"
           }
          ],
          "table": [
           {
            "cells": {
             "fill": {
              "color": "#EBF0F8"
             },
             "line": {
              "color": "white"
             }
            },
            "header": {
             "fill": {
              "color": "#C8D4E3"
             },
             "line": {
              "color": "white"
             }
            },
            "type": "table"
           }
          ]
         },
         "layout": {
          "annotationdefaults": {
           "arrowcolor": "#2a3f5f",
           "arrowhead": 0,
           "arrowwidth": 1
          },
          "autotypenumbers": "strict",
          "coloraxis": {
           "colorbar": {
            "outlinewidth": 0,
            "ticks": ""
           }
          },
          "colorscale": {
           "diverging": [
            [
             0,
             "#8e0152"
            ],
            [
             0.1,
             "#c51b7d"
            ],
            [
             0.2,
             "#de77ae"
            ],
            [
             0.3,
             "#f1b6da"
            ],
            [
             0.4,
             "#fde0ef"
            ],
            [
             0.5,
             "#f7f7f7"
            ],
            [
             0.6,
             "#e6f5d0"
            ],
            [
             0.7,
             "#b8e186"
            ],
            [
             0.8,
             "#7fbc41"
            ],
            [
             0.9,
             "#4d9221"
            ],
            [
             1,
             "#276419"
            ]
           ],
           "sequential": [
            [
             0,
             "#0d0887"
            ],
            [
             0.1111111111111111,
             "#46039f"
            ],
            [
             0.2222222222222222,
             "#7201a8"
            ],
            [
             0.3333333333333333,
             "#9c179e"
            ],
            [
             0.4444444444444444,
             "#bd3786"
            ],
            [
             0.5555555555555556,
             "#d8576b"
            ],
            [
             0.6666666666666666,
             "#ed7953"
            ],
            [
             0.7777777777777778,
             "#fb9f3a"
            ],
            [
             0.8888888888888888,
             "#fdca26"
            ],
            [
             1,
             "#f0f921"
            ]
           ],
           "sequentialminus": [
            [
             0,
             "#0d0887"
            ],
            [
             0.1111111111111111,
             "#46039f"
            ],
            [
             0.2222222222222222,
             "#7201a8"
            ],
            [
             0.3333333333333333,
             "#9c179e"
            ],
            [
             0.4444444444444444,
             "#bd3786"
            ],
            [
             0.5555555555555556,
             "#d8576b"
            ],
            [
             0.6666666666666666,
             "#ed7953"
            ],
            [
             0.7777777777777778,
             "#fb9f3a"
            ],
            [
             0.8888888888888888,
             "#fdca26"
            ],
            [
             1,
             "#f0f921"
            ]
           ]
          },
          "colorway": [
           "#636efa",
           "#EF553B",
           "#00cc96",
           "#ab63fa",
           "#FFA15A",
           "#19d3f3",
           "#FF6692",
           "#B6E880",
           "#FF97FF",
           "#FECB52"
          ],
          "font": {
           "color": "#2a3f5f"
          },
          "geo": {
           "bgcolor": "white",
           "lakecolor": "white",
           "landcolor": "#E5ECF6",
           "showlakes": true,
           "showland": true,
           "subunitcolor": "white"
          },
          "hoverlabel": {
           "align": "left"
          },
          "hovermode": "closest",
          "mapbox": {
           "style": "light"
          },
          "paper_bgcolor": "white",
          "plot_bgcolor": "#E5ECF6",
          "polar": {
           "angularaxis": {
            "gridcolor": "white",
            "linecolor": "white",
            "ticks": ""
           },
           "bgcolor": "#E5ECF6",
           "radialaxis": {
            "gridcolor": "white",
            "linecolor": "white",
            "ticks": ""
           }
          },
          "scene": {
           "xaxis": {
            "backgroundcolor": "#E5ECF6",
            "gridcolor": "white",
            "gridwidth": 2,
            "linecolor": "white",
            "showbackground": true,
            "ticks": "",
            "zerolinecolor": "white"
           },
           "yaxis": {
            "backgroundcolor": "#E5ECF6",
            "gridcolor": "white",
            "gridwidth": 2,
            "linecolor": "white",
            "showbackground": true,
            "ticks": "",
            "zerolinecolor": "white"
           },
           "zaxis": {
            "backgroundcolor": "#E5ECF6",
            "gridcolor": "white",
            "gridwidth": 2,
            "linecolor": "white",
            "showbackground": true,
            "ticks": "",
            "zerolinecolor": "white"
           }
          },
          "shapedefaults": {
           "line": {
            "color": "#2a3f5f"
           }
          },
          "ternary": {
           "aaxis": {
            "gridcolor": "white",
            "linecolor": "white",
            "ticks": ""
           },
           "baxis": {
            "gridcolor": "white",
            "linecolor": "white",
            "ticks": ""
           },
           "bgcolor": "#E5ECF6",
           "caxis": {
            "gridcolor": "white",
            "linecolor": "white",
            "ticks": ""
           }
          },
          "title": {
           "x": 0.05
          },
          "xaxis": {
           "automargin": true,
           "gridcolor": "white",
           "linecolor": "white",
           "ticks": "",
           "title": {
            "standoff": 15
           },
           "zerolinecolor": "white",
           "zerolinewidth": 2
          },
          "yaxis": {
           "automargin": true,
           "gridcolor": "white",
           "linecolor": "white",
           "ticks": "",
           "title": {
            "standoff": 15
           },
           "zerolinecolor": "white",
           "zerolinewidth": 2
          }
         }
        }
       }
      }
     },
     "metadata": {},
     "output_type": "display_data"
    }
   ],
   "source": [
    "#realizar embudo para b_events_freq\n",
    "\n",
    "b_events_funnel = b_events_freq.query('evento != \"login\"')\n",
    "\n",
    "fig = go.Figure(go.Funnel(\n",
    "   y=b_events_funnel['evento'],\n",
    "    x=b_events_funnel['num_usuarios']\n",
    "))\n",
    "\n",
    "# Mostrar el gráfico\n",
    "fig.show()"
   ]
  },
  {
   "cell_type": "code",
   "execution_count": 50,
   "metadata": {},
   "outputs": [
    {
     "data": {
      "image/png": "[encoded data removed]",
      "text/plain": [
       "<Figure size 640x480 with 1 Axes>"
      ]
     },
     "metadata": {},
     "output_type": "display_data"
    }
   ],
   "source": [
    "#distribución eventos por día grupos A y B \n",
    "events_per_day_ab = (no_outliers_df\n",
    "                     .groupby(\"date\")['event_name']\n",
    "                     .count()\n",
    "                     .reset_index())\n",
    "\n",
    "events_per_day_ab.plot(x='date',\n",
    "                       y='event_name',\n",
    "                       legend=False)\n",
    "\n",
    "plt.title(\"Eventos diarios para el total de participantes\")\n",
    "plt.xlabel(\"Fecha\")\n",
    "plt.xticks(rotation=45)\n",
    "plt.ylabel(\"Num. de eventos\")\n",
    "\n",
    "plt.show()"
   ]
  },
  {
   "cell_type": "code",
   "execution_count": 51,
   "metadata": {},
   "outputs": [
    {
     "data": {
      "image/png": "[encoded data removed]",
      "text/plain": [
       "<Figure size 640x480 with 1 Axes>"
      ]
     },
     "metadata": {},
     "output_type": "display_data"
    }
   ],
   "source": [
    "#distribución eventos por día grupo A \n",
    "events_per_day_a = (no_outliers_df\n",
    "                     .query(\"group == 'A'\")\n",
    "                     .groupby(\"date\")['event_name']\n",
    "                     .count()\n",
    "                     .reset_index())\n",
    "\n",
    "events_per_day_a.plot(x='date',\n",
    "                      y='event_name',\n",
    "                      legend=False)\n",
    "\n",
    "plt.title(\"Eventos diarios grupo A\")\n",
    "plt.xlabel(\"Fecha\")\n",
    "plt.xticks(rotation=45)\n",
    "plt.ylabel(\"Num. de eventos\")\n",
    "\n",
    "plt.show()"
   ]
  },
  {
   "cell_type": "code",
   "execution_count": 52,
   "metadata": {},
   "outputs": [
    {
     "data": {
      "image/png": "[encoded data removed]",
      "text/plain": [
       "<Figure size 640x480 with 1 Axes>"
      ]
     },
     "metadata": {},
     "output_type": "display_data"
    }
   ],
   "source": [
    "#distribución eventos por día grupo B \n",
    "events_per_day_b = (no_outliers_df\n",
    "                     .query(\"group == 'A'\")\n",
    "                     .groupby(\"date\")['event_name']\n",
    "                     .count()\n",
    "                     .reset_index())\n",
    "\n",
    "events_per_day_b.plot(x='date',\n",
    "                      y='event_name',\n",
    "                      legend=False)\n",
    "\n",
    "plt.title(\"Eventos diarios grupo B\")\n",
    "plt.xlabel(\"Fecha\")\n",
    "plt.xticks(rotation=45)\n",
    "plt.ylabel(\"Num. de eventos\")\n",
    "\n",
    "plt.show()"
   ]
  },
  {
   "cell_type": "markdown",
   "metadata": {},
   "source": [
    "\n",
    "### Resultado Análisis Exploratorio de Datos (EDA)\n",
    "\n",
    "A partir del análisis exploratorio de datos, se identificaron los siguientes hallazgos:\n",
    "\n",
    "1. **Fechas de finalización de admisión de nuevos usuarios:**  \n",
    "   La fecha real en la que se dejó de admitir nuevos usuarios fue el **23 de diciembre de 2020**.\n",
    "\n",
    "2. **Distribución de eventos en el tiempo:**  \n",
    "   La distribución de eventos por fecha es similar en ambos grupos. Ambos comienzan y terminan con aproximadamente 300 eventos, alcanzando un pico de actividad en fechas cercanas a la Navidad.\n",
    "\n",
    "3. **Exclusividad de los participantes por grupo:**  \n",
    "   Ningún participante pertenece a ambos grupos del experimento, lo que asegura la independencia entre los grupos.\n",
    "\n",
    "4. **Desbalance en el tamaño de los grupos:**  \n",
    "   Existe un desbalance significativo en el número de usuarios, ya que los participantes del grupo A triplican a los del grupo B.\n",
    "\n",
    "5. **Análisis de valores atípicos:**  \n",
    "   - Los usuarios con 14 eventos o más fueron identificados como valores atípicos. Esto resultó en la eliminación de **157 participantes** para evitar alterar los valores promedio.  \n",
    "   - Estadísticas clave por grupo:  \n",
    "     - **Grupo A:** Media de 6.13 eventos por usuario, con una mediana y moda de 6.  \n",
    "     - **Grupo B:** Media de 5.22 eventos por usuario, con una mediana de 4 y una moda de 6.  \n",
    "\n",
    "6. **Embudo de conversión:**  \n",
    "   Se analizaron embudos de conversión para evaluar la proporción de usuarios que realizan compras desde las distintas etapas. De forma preliminar, la tasa de conversión en relación al total de participantes en la primera etapa es similar en ambos grupos.\n",
    "\n",
    "7. **Inconsistencias en los datos de eventos:**  \n",
    "   Se detectó que los datos del evento *purchase_cart* son menores que los del evento final *purchase*, lo que sugiere que los datos están incompletos."
   ]
  },
  {
   "cell_type": "markdown",
   "metadata": {},
   "source": [
    "## Prueba AB\n",
    "En esta última etapa del análisis se realizará la prueba estadística Z para comprobar que el sistema de recomendaciones implementado aumentó en al menos un 10% la conversión de compras."
   ]
  },
  {
   "cell_type": "markdown",
   "metadata": {},
   "source": [
    "### Comprobar diferencias estadísticas entre pruebas AB\n",
    "Hipótesis nula: No hay una diferencia significativa en la tasa de conversión entre el grupo de control A y el grupo experimental B.\n",
    "\n",
    "Hipótesis alternativa: Hay una diferencia significativa en la tasa de conversión entre el grupo de control A y el grupo experimental B."
   ]
  },
  {
   "cell_type": "code",
   "execution_count": 53,
   "metadata": {},
   "outputs": [
    {
     "name": "stdout",
     "output_type": "stream",
     "text": [
      "Se rechaza la hipótesis nula. Hay una diferencia estadística significativa entre ambas pruebas.\n"
     ]
    }
   ],
   "source": [
    "#Comparar si hay una diferencia significativa entre ambas pruebas\n",
    "\n",
    "# Datos de entrada\n",
    "exitos1 = 1937  # Éxitos en el grupo control\n",
    "usuarios1 = 2465  # Tamaño del grupo control\n",
    "exitos2 = 540  # Éxitos en el grupo experimental\n",
    "usuarios2 = 859  # Tamaño del grupo experimental\n",
    "alpha = 0.05  # Nivel de significancia\n",
    "\n",
    "# Proporción de éxitos en el grupo control\n",
    "p1 = exitos1 / usuarios1\n",
    "\n",
    "# Proporción de éxitos en el grupo experimental\n",
    "p2 = exitos2 / usuarios2\n",
    "\n",
    "# Proporción combinada\n",
    "p_combinada = (exitos1 + exitos2) / (usuarios1 + usuarios2)\n",
    "\n",
    "# Diferencia de proporciones entre las pruebas\n",
    "dif_p = p1 - p2\n",
    "\n",
    "# Calcular valor z\n",
    "valor_z = dif_p / math.sqrt(p_combinada * (1 - p_combinada) * ((1 / usuarios1) + (1 / usuarios2)))\n",
    "\n",
    "# Calcular valor p (prueba de dos colas)\n",
    "valor_p = 2 * (1 - norm.cdf(abs(valor_z)))\n",
    "\n",
    "if valor_p < alpha:\n",
    "    print('Se rechaza la hipótesis nula. Hay una diferencia estadística significativa entre ambas pruebas.')\n",
    "else:\n",
    "    print('No se rechaza la hipótesis nula: no hay evidencia suficiente de una diferencia significativa.')"
   ]
  },
  {
   "cell_type": "markdown",
   "metadata": {},
   "source": [
    "### Comprobar porcentaje de la diferencia entre las pruebas AB\n",
    "\n",
    "Hipótesis nula: La introducción de un sistema de recomendaciones mejorado no incrementa en al menos un 10% las ventas de la tienda. \n",
    "\n",
    "Hipótesis nula: La introducción de un sistema de recomendaciones mejorado incrementa en al menos un 10% las ventas de la tienda. \n"
   ]
  },
  {
   "cell_type": "code",
   "execution_count": 54,
   "metadata": {},
   "outputs": [
    {
     "name": "stdout",
     "output_type": "stream",
     "text": [
      "No se puede rechazar la hipótesis nula: Z = 9.10\n"
     ]
    }
   ],
   "source": [
    "# Nivel crítico para α = 0.05 (prueba de una cola)\n",
    "z_critico = norm.ppf(1 - alpha)\n",
    "\n",
    "# Resultado\n",
    "if valor_p > z_critico:\n",
    "    print(f\"Se rechaza la hipótesis nula: El aumento es significativo con Z = {valor_z:.2f}\")\n",
    "else:\n",
    "    print(f\"No se puede rechazar la hipótesis nula: Z = {valor_z:.2f}\")"
   ]
  },
  {
   "cell_type": "markdown",
   "metadata": {},
   "source": [
    "## Conclusiones \n",
    "\n",
    "El objetivo de este proyecto fue retomar un experimento de pruebas A/B avanzado realizado por un equipo de analistas anterior. Para ello, se revisaron y ajustaron los datos según los requerimientos planteados por dicho equipo, así como lo indicado en la fase de inicialización y preprocesamiento. Esto permitió la estandarización de ciertos datos y la aplicación de los filtros correspondientes.\n",
    "\n",
    "Al analizar los datos de la tabla *merged_df_14*, que ya estaban limpios y tratados, se reveló una desproporción significativa entre los grupos: el grupo de control era un **tercio mayor** que el grupo experimental. A pesar de este desbalance, los valores estadísticos y el comportamiento de las interacciones con la plataforma a lo largo del tiempo se mantuvieron consistentes.\n",
    "\n",
    "Con base en esta disparidad en el tamaño de las muestras, se aplicó una prueba Z para evaluar las diferencias estadísticas entre ambos grupos y determinar si se había alcanzado el objetivo de incrementar las ventas en un **10% en 14 días** debido a la mejora en el sistema de recomendaciones del sitio web. Al calcular el valor Z, se ajustó la fórmula para calcular el **error estándar** debido al tamaño desigual de las muestras. \n",
    "\n",
    "El resultado de la prueba concluye que, efectivamente, se observó una mejora en la conversión de compras para el grupo B, pero el incremento estuvo cerca del **9%** y no alcanzó el **10%** planteado inicialmente.\n",
    "\n",
    "### Recomendaciones\n",
    "\n",
    "Dado que no se cumplen los estándares necesarios para evaluar los resultados con objetividad, se recomienda **repetir el experimento**. La muestra utilizada fue mucho menor de lo esperado, lo que dificulta asegurar que los cambios sean exclusivos de las modificaciones realizadas en la plataforma, o si la tasa de conversión más alta fue influenciada en gran medida por el evento de Navidad, que históricamente genera un mayor volumen de compras.\n",
    "\n",
    "También es crucial que los grupos de control y experimental estén **proporcionalmente balanceados** para evitar sesgos en los resultados. Para mejorar la validez del experimento, se sugiere realizar una prueba **A/A/B** en lugar de la prueba A/B propuesta inicialmente. Esto implicaría la creación de tres grupos (control, experimental y un nuevo grupo de control) para una evaluación más exhaustiva y precisa.\n",
    "\n",
    "\n",
    "\n"
   ]
  }
 ],
 "metadata": {
  "kernelspec": {
   "display_name": ".venv",
   "language": "python",
   "name": "python3"
  },
  "language_info": {
   "codemirror_mode": {
    "name": "ipython",
    "version": 3
   },
   "file_extension": ".py",
   "mimetype": "text/x-python",
   "name": "python",
   "nbconvert_exporter": "python",
   "pygments_lexer": "ipython3",
   "version": "3.12.8"
  }
 },
 "nbformat": 4,
 "nbformat_minor": 2
}
